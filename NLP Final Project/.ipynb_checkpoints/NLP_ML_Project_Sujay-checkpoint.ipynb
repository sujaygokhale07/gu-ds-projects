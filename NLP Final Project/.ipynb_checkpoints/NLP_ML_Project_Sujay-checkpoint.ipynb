{
 "cells": [
  {
   "cell_type": "markdown",
   "metadata": {},
   "source": [
    "## Judge Emotion About Brands & Products"
   ]
  },
  {
   "cell_type": "markdown",
   "metadata": {},
   "source": [
    "Contributors evaluated tweets about multiple brands and products. The crowd was asked if the tweet expressed positive, negative or no emotion towards a brand and/or product. If some emotion was expressed they were also asked to say which brand or product was the target of that emotion."
   ]
  },
  {
   "cell_type": "markdown",
   "metadata": {},
   "source": [
    "Citation: http://www.crowdflower.com/data-for-everyone, Added: August 30, 2013 by Kent Cavender-Bares | Data Rows: 9,093"
   ]
  },
  {
   "cell_type": "code",
   "execution_count": 638,
   "metadata": {
    "collapsed": false
   },
   "outputs": [],
   "source": [
    "from __future__ import division\n",
    "import pandas as pd\n",
    "import numpy as np\n",
    "import math\n",
    "from nltk import NaiveBayesClassifier\n",
    "from sklearn.cross_validation import train_test_split\n",
    "from sklearn.grid_search import GridSearchCV\n",
    "from sklearn.naive_bayes import MultinomialNB\n",
    "import matplotlib.pyplot as plt\n",
    "from nltk.tokenize import word_tokenize\n",
    "from nltk.corpus import stopwords\n",
    "from sklearn.metrics import f1_score\n",
    "from sklearn.feature_extraction.text import CountVectorizer\n",
    "from nltk.stem.porter import *\n",
    "from nltk.stem.wordnet import WordNetLemmatizer\n",
    "import string\n",
    "from nltk.util import ngrams\n",
    "import seaborn as sns\n",
    "from sklearn.metrics import accuracy_score\n",
    "from sklearn import svm, cross_validation\n",
    "from sklearn.ensemble import RandomForestClassifier\n",
    "from sklearn.ensemble import ExtraTreesClassifier\n",
    "from pandas_confusion import ConfusionMatrix\n",
    "from sklearn.ensemble import AdaBoostClassifier\n",
    "from sklearn.feature_extraction.text import TfidfVectorizer\n",
    "from collections import Counter\n",
    "% matplotlib inline\n"
   ]
  },
  {
   "cell_type": "code",
   "execution_count": 2,
   "metadata": {
    "collapsed": false
   },
   "outputs": [],
   "source": [
    "data = pd.read_csv('data/product_company.csv')"
   ]
  },
  {
   "cell_type": "code",
   "execution_count": 3,
   "metadata": {
    "collapsed": false
   },
   "outputs": [
    {
     "data": {
      "text/html": [
       "<div>\n",
       "<table border=\"1\" class=\"dataframe\">\n",
       "  <thead>\n",
       "    <tr style=\"text-align: right;\">\n",
       "      <th></th>\n",
       "      <th>tweet_text</th>\n",
       "      <th>emotion_in_tweet_is_directed_at</th>\n",
       "      <th>is_there_an_emotion_directed_at_a_brand_or_product</th>\n",
       "    </tr>\n",
       "  </thead>\n",
       "  <tbody>\n",
       "    <tr>\n",
       "      <th>0</th>\n",
       "      <td>.@wesley83 I have a 3G iPhone. After 3 hrs twe...</td>\n",
       "      <td>iPhone</td>\n",
       "      <td>Negative emotion</td>\n",
       "    </tr>\n",
       "    <tr>\n",
       "      <th>1</th>\n",
       "      <td>@jessedee Know about @fludapp ? Awesome iPad/i...</td>\n",
       "      <td>iPad or iPhone App</td>\n",
       "      <td>Positive emotion</td>\n",
       "    </tr>\n",
       "    <tr>\n",
       "      <th>2</th>\n",
       "      <td>@swonderlin Can not wait for #iPad 2 also. The...</td>\n",
       "      <td>iPad</td>\n",
       "      <td>Positive emotion</td>\n",
       "    </tr>\n",
       "    <tr>\n",
       "      <th>3</th>\n",
       "      <td>@sxsw I hope this year's festival isn't as cra...</td>\n",
       "      <td>iPad or iPhone App</td>\n",
       "      <td>Negative emotion</td>\n",
       "    </tr>\n",
       "    <tr>\n",
       "      <th>4</th>\n",
       "      <td>@sxtxstate great stuff on Fri #SXSW: Marissa M...</td>\n",
       "      <td>Google</td>\n",
       "      <td>Positive emotion</td>\n",
       "    </tr>\n",
       "  </tbody>\n",
       "</table>\n",
       "</div>"
      ],
      "text/plain": [
       "                                          tweet_text  \\\n",
       "0  .@wesley83 I have a 3G iPhone. After 3 hrs twe...   \n",
       "1  @jessedee Know about @fludapp ? Awesome iPad/i...   \n",
       "2  @swonderlin Can not wait for #iPad 2 also. The...   \n",
       "3  @sxsw I hope this year's festival isn't as cra...   \n",
       "4  @sxtxstate great stuff on Fri #SXSW: Marissa M...   \n",
       "\n",
       "  emotion_in_tweet_is_directed_at  \\\n",
       "0                          iPhone   \n",
       "1              iPad or iPhone App   \n",
       "2                            iPad   \n",
       "3              iPad or iPhone App   \n",
       "4                          Google   \n",
       "\n",
       "  is_there_an_emotion_directed_at_a_brand_or_product  \n",
       "0                                   Negative emotion  \n",
       "1                                   Positive emotion  \n",
       "2                                   Positive emotion  \n",
       "3                                   Negative emotion  \n",
       "4                                   Positive emotion  "
      ]
     },
     "execution_count": 3,
     "metadata": {},
     "output_type": "execute_result"
    }
   ],
   "source": [
    "data.head()"
   ]
  },
  {
   "cell_type": "code",
   "execution_count": 5,
   "metadata": {
    "collapsed": false
   },
   "outputs": [
    {
     "data": {
      "text/html": [
       "<div>\n",
       "<table border=\"1\" class=\"dataframe\">\n",
       "  <thead>\n",
       "    <tr style=\"text-align: right;\">\n",
       "      <th></th>\n",
       "      <th>tweet_text</th>\n",
       "      <th>emotion_in_tweet_is_directed_at</th>\n",
       "      <th>is_there_an_emotion_directed_at_a_brand_or_product</th>\n",
       "    </tr>\n",
       "  </thead>\n",
       "  <tbody>\n",
       "    <tr>\n",
       "      <th>count</th>\n",
       "      <td>9092</td>\n",
       "      <td>3291</td>\n",
       "      <td>9093</td>\n",
       "    </tr>\n",
       "    <tr>\n",
       "      <th>unique</th>\n",
       "      <td>9065</td>\n",
       "      <td>9</td>\n",
       "      <td>4</td>\n",
       "    </tr>\n",
       "    <tr>\n",
       "      <th>top</th>\n",
       "      <td>RT @mention Marissa Mayer: Google Will Connect...</td>\n",
       "      <td>iPad</td>\n",
       "      <td>No emotion toward brand or product</td>\n",
       "    </tr>\n",
       "    <tr>\n",
       "      <th>freq</th>\n",
       "      <td>5</td>\n",
       "      <td>946</td>\n",
       "      <td>5389</td>\n",
       "    </tr>\n",
       "  </tbody>\n",
       "</table>\n",
       "</div>"
      ],
      "text/plain": [
       "                                               tweet_text  \\\n",
       "count                                                9092   \n",
       "unique                                               9065   \n",
       "top     RT @mention Marissa Mayer: Google Will Connect...   \n",
       "freq                                                    5   \n",
       "\n",
       "       emotion_in_tweet_is_directed_at  \\\n",
       "count                             3291   \n",
       "unique                               9   \n",
       "top                               iPad   \n",
       "freq                               946   \n",
       "\n",
       "       is_there_an_emotion_directed_at_a_brand_or_product  \n",
       "count                                                9093  \n",
       "unique                                                  4  \n",
       "top                    No emotion toward brand or product  \n",
       "freq                                                 5389  "
      ]
     },
     "execution_count": 5,
     "metadata": {},
     "output_type": "execute_result"
    }
   ],
   "source": [
    "data.describe()"
   ]
  },
  {
   "cell_type": "code",
   "execution_count": 6,
   "metadata": {
    "collapsed": false
   },
   "outputs": [
    {
     "name": "stdout",
     "output_type": "stream",
     "text": [
      "<class 'pandas.core.frame.DataFrame'>\n",
      "Int64Index: 9093 entries, 0 to 9092\n",
      "Data columns (total 3 columns):\n",
      "tweet_text                                            9092 non-null object\n",
      "emotion_in_tweet_is_directed_at                       3291 non-null object\n",
      "is_there_an_emotion_directed_at_a_brand_or_product    9093 non-null object\n",
      "dtypes: object(3)\n",
      "memory usage: 284.2+ KB\n"
     ]
    }
   ],
   "source": [
    "data.info()"
   ]
  },
  {
   "cell_type": "code",
   "execution_count": 148,
   "metadata": {
    "collapsed": false
   },
   "outputs": [],
   "source": [
    "# Dropping NaN's\n",
    "new_data = data[pd.notnull(data['emotion_in_tweet_is_directed_at'])]"
   ]
  },
  {
   "cell_type": "markdown",
   "metadata": {},
   "source": [
    "## Looking at how the new data is structured"
   ]
  },
  {
   "cell_type": "code",
   "execution_count": 149,
   "metadata": {
    "collapsed": false
   },
   "outputs": [
    {
     "data": {
      "text/html": [
       "<div>\n",
       "<table border=\"1\" class=\"dataframe\">\n",
       "  <thead>\n",
       "    <tr style=\"text-align: right;\">\n",
       "      <th></th>\n",
       "      <th>tweet_text</th>\n",
       "      <th>emotion_in_tweet_is_directed_at</th>\n",
       "      <th>is_there_an_emotion_directed_at_a_brand_or_product</th>\n",
       "    </tr>\n",
       "  </thead>\n",
       "  <tbody>\n",
       "    <tr>\n",
       "      <th>count</th>\n",
       "      <td>3291</td>\n",
       "      <td>3291</td>\n",
       "      <td>3291</td>\n",
       "    </tr>\n",
       "    <tr>\n",
       "      <th>unique</th>\n",
       "      <td>3282</td>\n",
       "      <td>9</td>\n",
       "      <td>4</td>\n",
       "    </tr>\n",
       "    <tr>\n",
       "      <th>top</th>\n",
       "      <td>RT @mention Marissa Mayer: Google Will Connect...</td>\n",
       "      <td>iPad</td>\n",
       "      <td>Positive emotion</td>\n",
       "    </tr>\n",
       "    <tr>\n",
       "      <th>freq</th>\n",
       "      <td>3</td>\n",
       "      <td>946</td>\n",
       "      <td>2672</td>\n",
       "    </tr>\n",
       "  </tbody>\n",
       "</table>\n",
       "</div>"
      ],
      "text/plain": [
       "                                               tweet_text  \\\n",
       "count                                                3291   \n",
       "unique                                               3282   \n",
       "top     RT @mention Marissa Mayer: Google Will Connect...   \n",
       "freq                                                    3   \n",
       "\n",
       "       emotion_in_tweet_is_directed_at  \\\n",
       "count                             3291   \n",
       "unique                               9   \n",
       "top                               iPad   \n",
       "freq                               946   \n",
       "\n",
       "       is_there_an_emotion_directed_at_a_brand_or_product  \n",
       "count                                                3291  \n",
       "unique                                                  4  \n",
       "top                                      Positive emotion  \n",
       "freq                                                 2672  "
      ]
     },
     "execution_count": 149,
     "metadata": {},
     "output_type": "execute_result"
    }
   ],
   "source": [
    "new_data.describe()"
   ]
  },
  {
   "cell_type": "code",
   "execution_count": 150,
   "metadata": {
    "collapsed": false
   },
   "outputs": [
    {
     "name": "stdout",
     "output_type": "stream",
     "text": [
      "<class 'pandas.core.frame.DataFrame'>\n",
      "Int64Index: 3291 entries, 0 to 9088\n",
      "Data columns (total 3 columns):\n",
      "tweet_text                                            3291 non-null object\n",
      "emotion_in_tweet_is_directed_at                       3291 non-null object\n",
      "is_there_an_emotion_directed_at_a_brand_or_product    3291 non-null object\n",
      "dtypes: object(3)\n",
      "memory usage: 102.8+ KB\n"
     ]
    }
   ],
   "source": [
    "new_data.info()"
   ]
  },
  {
   "cell_type": "code",
   "execution_count": 151,
   "metadata": {
    "collapsed": false
   },
   "outputs": [
    {
     "data": {
      "text/html": [
       "<div>\n",
       "<table border=\"1\" class=\"dataframe\">\n",
       "  <thead>\n",
       "    <tr style=\"text-align: right;\">\n",
       "      <th></th>\n",
       "      <th>tweet_text</th>\n",
       "      <th>emotion_in_tweet_is_directed_at</th>\n",
       "      <th>is_there_an_emotion_directed_at_a_brand_or_product</th>\n",
       "    </tr>\n",
       "  </thead>\n",
       "  <tbody>\n",
       "    <tr>\n",
       "      <th>0</th>\n",
       "      <td>.@wesley83 I have a 3G iPhone. After 3 hrs twe...</td>\n",
       "      <td>iPhone</td>\n",
       "      <td>Negative emotion</td>\n",
       "    </tr>\n",
       "    <tr>\n",
       "      <th>1</th>\n",
       "      <td>@jessedee Know about @fludapp ? Awesome iPad/i...</td>\n",
       "      <td>iPad or iPhone App</td>\n",
       "      <td>Positive emotion</td>\n",
       "    </tr>\n",
       "    <tr>\n",
       "      <th>2</th>\n",
       "      <td>@swonderlin Can not wait for #iPad 2 also. The...</td>\n",
       "      <td>iPad</td>\n",
       "      <td>Positive emotion</td>\n",
       "    </tr>\n",
       "    <tr>\n",
       "      <th>3</th>\n",
       "      <td>@sxsw I hope this year's festival isn't as cra...</td>\n",
       "      <td>iPad or iPhone App</td>\n",
       "      <td>Negative emotion</td>\n",
       "    </tr>\n",
       "    <tr>\n",
       "      <th>4</th>\n",
       "      <td>@sxtxstate great stuff on Fri #SXSW: Marissa M...</td>\n",
       "      <td>Google</td>\n",
       "      <td>Positive emotion</td>\n",
       "    </tr>\n",
       "  </tbody>\n",
       "</table>\n",
       "</div>"
      ],
      "text/plain": [
       "                                          tweet_text  \\\n",
       "0  .@wesley83 I have a 3G iPhone. After 3 hrs twe...   \n",
       "1  @jessedee Know about @fludapp ? Awesome iPad/i...   \n",
       "2  @swonderlin Can not wait for #iPad 2 also. The...   \n",
       "3  @sxsw I hope this year's festival isn't as cra...   \n",
       "4  @sxtxstate great stuff on Fri #SXSW: Marissa M...   \n",
       "\n",
       "  emotion_in_tweet_is_directed_at  \\\n",
       "0                          iPhone   \n",
       "1              iPad or iPhone App   \n",
       "2                            iPad   \n",
       "3              iPad or iPhone App   \n",
       "4                          Google   \n",
       "\n",
       "  is_there_an_emotion_directed_at_a_brand_or_product  \n",
       "0                                   Negative emotion  \n",
       "1                                   Positive emotion  \n",
       "2                                   Positive emotion  \n",
       "3                                   Negative emotion  \n",
       "4                                   Positive emotion  "
      ]
     },
     "execution_count": 151,
     "metadata": {},
     "output_type": "execute_result"
    }
   ],
   "source": [
    "new_data.head()"
   ]
  },
  {
   "cell_type": "markdown",
   "metadata": {},
   "source": [
    "## Renaming the data columns to make it easier to use"
   ]
  },
  {
   "cell_type": "code",
   "execution_count": 152,
   "metadata": {
    "collapsed": true
   },
   "outputs": [],
   "source": [
    "# Renaming columns to make it easier to read\n",
    "new_data.columns = ['tweet_text', 'brand_product', 'sentiment']"
   ]
  },
  {
   "cell_type": "markdown",
   "metadata": {},
   "source": [
    "## Plotting value counts of the brand/product the tweet is directed at"
   ]
  },
  {
   "cell_type": "code",
   "execution_count": 540,
   "metadata": {
    "collapsed": false
   },
   "outputs": [
    {
     "name": "stdout",
     "output_type": "stream",
     "text": [
      "iPad                               946\n",
      "Apple                              661\n",
      "iPad or iPhone App                 470\n",
      "Google                             430\n",
      "iPhone                             297\n",
      "Other Google product or service    293\n",
      "Android App                         81\n",
      "Android                             78\n",
      "Other Apple product or service      35\n",
      "Name: brand_product, dtype: int64\n"
     ]
    }
   ],
   "source": [
    "val_counts_brand = new_data.brand_product.value_counts()\n",
    "print val_counts_brand"
   ]
  },
  {
   "cell_type": "code",
   "execution_count": 541,
   "metadata": {
    "collapsed": false
   },
   "outputs": [
    {
     "data": {
      "image/png": "[encoded data removed]",
      "text/plain": [
       "<matplotlib.figure.Figure at 0x2785cfa50>"
      ]
     },
     "metadata": {},
     "output_type": "display_data"
    }
   ],
   "source": [
    "plt.figure(figsize=[18,10])\n",
    "sns.barplot(x=val_counts_brand.index, y=val_counts_brand.values, palette=\"deep\");"
   ]
  },
  {
   "cell_type": "markdown",
   "metadata": {},
   "source": [
    "## Re-mapping the sentiment column of new data frame"
   ]
  },
  {
   "cell_type": "code",
   "execution_count": 155,
   "metadata": {
    "collapsed": false
   },
   "outputs": [
    {
     "name": "stderr",
     "output_type": "stream",
     "text": [
      "/Users/Sujay/anaconda/lib/python2.7/site-packages/ipykernel/__main__.py:4: SettingWithCopyWarning: \n",
      "A value is trying to be set on a copy of a slice from a DataFrame.\n",
      "Try using .loc[row_indexer,col_indexer] = value instead\n",
      "\n",
      "See the caveats in the documentation: http://pandas.pydata.org/pandas-docs/stable/indexing.html#indexing-view-versus-copy\n"
     ]
    }
   ],
   "source": [
    "new_data['sentiment'] = new_data['sentiment'].map({'Positive emotion': 'Positive'\n",
    "                                                   ,'Negative emotion': 'Negative'\n",
    "                                                   ,'No emotion toward brand or product': 'Neutral'\n",
    "                                                   ,\"I can't tell\": 'Neutral'});"
   ]
  },
  {
   "cell_type": "markdown",
   "metadata": {},
   "source": [
    "## Plotting the value counts of the sentiment column"
   ]
  },
  {
   "cell_type": "code",
   "execution_count": 542,
   "metadata": {
    "collapsed": false
   },
   "outputs": [
    {
     "name": "stdout",
     "output_type": "stream",
     "text": [
      "Positive    2672\n",
      "Negative     519\n",
      "Neutral      100\n",
      "Name: sentiment, dtype: int64\n"
     ]
    }
   ],
   "source": [
    "# Print the val_counts for sentiment\n",
    "val_counts_sentiment = new_data.sentiment.value_counts()\n",
    "print val_counts_sentiment"
   ]
  },
  {
   "cell_type": "code",
   "execution_count": 543,
   "metadata": {
    "collapsed": false
   },
   "outputs": [
    {
     "data": {
      "image/png": "[encoded data removed]",
      "text/plain": [
       "<matplotlib.figure.Figure at 0x27dc46ed0>"
      ]
     },
     "metadata": {},
     "output_type": "display_data"
    }
   ],
   "source": [
    "plt.figure(figsize=[12,8])\n",
    "sns.barplot(x=val_counts_sentiment.index, y=val_counts_sentiment.values, palette=\"deep\");"
   ]
  },
  {
   "cell_type": "markdown",
   "metadata": {},
   "source": [
    "## Finding sentiments for different product/brands"
   ]
  },
  {
   "cell_type": "code",
   "execution_count": 572,
   "metadata": {
    "collapsed": true
   },
   "outputs": [],
   "source": [
    "# Use groupby and count to get counts of sentiments for every brand or product\n",
    "sentiment_brand_product = new_data.groupby(['brand_product','sentiment']).count()"
   ]
  },
  {
   "cell_type": "code",
   "execution_count": 573,
   "metadata": {
    "collapsed": false
   },
   "outputs": [],
   "source": [
    "# Use unstack to reshape the dataframe and make each sentiment type into a column\n",
    "counts_df = sentiment_brand_product.unstack(level=1)\n",
    "# Rename the columns\n",
    "counts_df.columns = [u'Negative', u'Neutral', u'Positive']"
   ]
  },
  {
   "cell_type": "code",
   "execution_count": 575,
   "metadata": {
    "collapsed": false
   },
   "outputs": [],
   "source": [
    "# Remove the index name\n",
    "counts_df.index.name = None"
   ]
  },
  {
   "cell_type": "code",
   "execution_count": 582,
   "metadata": {
    "collapsed": false
   },
   "outputs": [],
   "source": [
    "# Make the index a column in the data frame\n",
    "counts_df.reset_index(level=0, inplace=True)"
   ]
  },
  {
   "cell_type": "code",
   "execution_count": 584,
   "metadata": {
    "collapsed": true
   },
   "outputs": [],
   "source": [
    "# Rename the column names\n",
    "counts_df.columns = [u'Brand_Product',u'Negative', u'Neutral', u'Positive']"
   ]
  },
  {
   "cell_type": "code",
   "execution_count": 585,
   "metadata": {
    "collapsed": false
   },
   "outputs": [
    {
     "data": {
      "text/html": [
       "<div>\n",
       "<table border=\"1\" class=\"dataframe\">\n",
       "  <thead>\n",
       "    <tr style=\"text-align: right;\">\n",
       "      <th></th>\n",
       "      <th>Brand_Product</th>\n",
       "      <th>Negative</th>\n",
       "      <th>Neutral</th>\n",
       "      <th>Positive</th>\n",
       "    </tr>\n",
       "  </thead>\n",
       "  <tbody>\n",
       "    <tr>\n",
       "      <th>0</th>\n",
       "      <td>Android</td>\n",
       "      <td>8</td>\n",
       "      <td>1</td>\n",
       "      <td>69</td>\n",
       "    </tr>\n",
       "    <tr>\n",
       "      <th>1</th>\n",
       "      <td>Android App</td>\n",
       "      <td>8</td>\n",
       "      <td>1</td>\n",
       "      <td>72</td>\n",
       "    </tr>\n",
       "    <tr>\n",
       "      <th>2</th>\n",
       "      <td>Apple</td>\n",
       "      <td>95</td>\n",
       "      <td>23</td>\n",
       "      <td>543</td>\n",
       "    </tr>\n",
       "    <tr>\n",
       "      <th>3</th>\n",
       "      <td>Google</td>\n",
       "      <td>68</td>\n",
       "      <td>16</td>\n",
       "      <td>346</td>\n",
       "    </tr>\n",
       "    <tr>\n",
       "      <th>4</th>\n",
       "      <td>Other Apple product or service</td>\n",
       "      <td>2</td>\n",
       "      <td>1</td>\n",
       "      <td>32</td>\n",
       "    </tr>\n",
       "    <tr>\n",
       "      <th>5</th>\n",
       "      <td>Other Google product or service</td>\n",
       "      <td>47</td>\n",
       "      <td>10</td>\n",
       "      <td>236</td>\n",
       "    </tr>\n",
       "    <tr>\n",
       "      <th>6</th>\n",
       "      <td>iPad</td>\n",
       "      <td>125</td>\n",
       "      <td>28</td>\n",
       "      <td>793</td>\n",
       "    </tr>\n",
       "    <tr>\n",
       "      <th>7</th>\n",
       "      <td>iPad or iPhone App</td>\n",
       "      <td>63</td>\n",
       "      <td>10</td>\n",
       "      <td>397</td>\n",
       "    </tr>\n",
       "    <tr>\n",
       "      <th>8</th>\n",
       "      <td>iPhone</td>\n",
       "      <td>103</td>\n",
       "      <td>10</td>\n",
       "      <td>184</td>\n",
       "    </tr>\n",
       "  </tbody>\n",
       "</table>\n",
       "</div>"
      ],
      "text/plain": [
       "                     Brand_Product  Negative  Neutral  Positive\n",
       "0                          Android         8        1        69\n",
       "1                      Android App         8        1        72\n",
       "2                            Apple        95       23       543\n",
       "3                           Google        68       16       346\n",
       "4   Other Apple product or service         2        1        32\n",
       "5  Other Google product or service        47       10       236\n",
       "6                             iPad       125       28       793\n",
       "7               iPad or iPhone App        63       10       397\n",
       "8                           iPhone       103       10       184"
      ]
     },
     "execution_count": 585,
     "metadata": {},
     "output_type": "execute_result"
    }
   ],
   "source": [
    "counts_df"
   ]
  },
  {
   "cell_type": "code",
   "execution_count": 596,
   "metadata": {
    "collapsed": false
   },
   "outputs": [
    {
     "data": {
      "image/png": "[encoded data removed]",
      "text/plain": [
       "<matplotlib.figure.Figure at 0x27e757150>"
      ]
     },
     "metadata": {},
     "output_type": "display_data"
    }
   ],
   "source": [
    "# Setting the positions and width for the bars\n",
    "pos = list(range(len(counts_df['Negative'])))\n",
    "width = 0.25\n",
    "\n",
    "# Plotting the bars\n",
    "fig, ax = plt.subplots(figsize=(30,10))\n",
    "\n",
    "# Create a bar with pre_score data,\n",
    "plt.bar(pos, counts_df['Negative'], width, alpha=0.5, color='Red',label=counts_df['Brand_Product'][0])\n",
    "plt.bar([p + width for p in pos], counts_df['Neutral'], width, alpha=0.5, color='Brown',label=counts_df['Brand_Product'][1])\n",
    "plt.bar([p + width*2 for p in pos], counts_df['Positive'], width, alpha=0.5, color='Blue', label=counts_df['Brand_Product'][2])\n",
    "\n",
    "# Set the y axis label\n",
    "ax.set_ylabel('Score')\n",
    "\n",
    "# Set the chart's title\n",
    "ax.set_title('Sentiments for different brands/products')\n",
    "\n",
    "# Set the position of the x ticks\n",
    "ax.set_xticks([p + 1.5 * width for p in pos])\n",
    "\n",
    "# Set the labels for the x ticks\n",
    "ax.set_xticklabels(counts_df['Brand_Product'])\n",
    "\n",
    "# Setting the x-axis and y-axis limits\n",
    "plt.xlim(min(pos)-width, max(pos)+width*4)\n",
    "plt.ylim([0, max(counts_df['Negative'] + counts_df['Neutral'] + counts_df['Positive'])] )\n",
    "\n",
    "# Adding the legend and showing the plot\n",
    "plt.legend(['Negative', 'Neutral', 'Positive'], loc='upper right')\n",
    "plt.grid()\n",
    "plt.show()"
   ]
  },
  {
   "cell_type": "markdown",
   "metadata": {},
   "source": [
    "## Tokenizing data and also using Regex to filter it"
   ]
  },
  {
   "cell_type": "code",
   "execution_count": 158,
   "metadata": {
    "collapsed": false
   },
   "outputs": [],
   "source": [
    "#Citation: https://m.reddit.com/r/learnpython/comments/37sgrv/unclear_on_the_format_of_this_list/\n",
    "\n",
    "import re\n",
    " \n",
    "regex_str = [\n",
    "    r'(?:@[\\w_]+)', # @-mentions\n",
    "    r\"(?:\\#+[\\w_]+[\\w\\'_\\-]*[\\w_]+)\", # hash-tags\n",
    "    r'http[s]?://(?:[a-z]|[0-9]|[$-_@.&+]|[!*\\(\\),]|(?:%[0-9a-f][0-9a-f]))+', # URLs\n",
    " \n",
    "    r'(?:(?:\\d+,?)+(?:\\.?\\d+)?)', # numbers\n",
    "    r\"(?:[a-z][a-z'\\-_]+[a-z])\", # words with - and '\n",
    "    r'(?:[\\w_]+)', # other words\n",
    "]\n",
    "    \n",
    "tokens_re = re.compile(r'('+'|'.join(regex_str)+')', re.VERBOSE | re.IGNORECASE)\n",
    " \n",
    "def tokenize(s):\n",
    "    return tokens_re.findall(s)\n",
    " \n",
    "def preprocess(s, lowercase=False):\n",
    "    tokens = tokenize(s)\n",
    "    if lowercase:\n",
    "        tokens = [token.lower() for token in tokens]\n",
    "    return tokens"
   ]
  },
  {
   "cell_type": "code",
   "execution_count": 159,
   "metadata": {
    "collapsed": false
   },
   "outputs": [],
   "source": [
    "# Create a list of lists containing preprocessed data\n",
    "preprocessed_tweet_text = []\n",
    "for i in new_data.tweet_text.values:\n",
    "    preprocessed_tweet_text.append(preprocess(i, lowercase=True))"
   ]
  },
  {
   "cell_type": "markdown",
   "metadata": {},
   "source": [
    "## Removing stop words and punctuation"
   ]
  },
  {
   "cell_type": "code",
   "execution_count": 841,
   "metadata": {
    "collapsed": false
   },
   "outputs": [],
   "source": [
    "# Getting rid of stop words and punctuation\n",
    "tweet_text_filtered = []\n",
    "for tweet in preprocessed_tweet_text:\n",
    "    # We'll get rid of Ts as well as it appears many times\n",
    "    tweet_text_filtered.append(list(set(tweet) - set(stopwords.words('english') + ['ts'] + ['link'] + ['rt']) - set(string.punctuation)))"
   ]
  },
  {
   "cell_type": "code",
   "execution_count": 842,
   "metadata": {
    "collapsed": false
   },
   "outputs": [
    {
     "data": {
      "text/plain": [
       "['#sxsw',\n",
       " 'walking',\n",
       " '#sxswtoolkit',\n",
       " 'apple',\n",
       " 'charger',\n",
       " 'laptop',\n",
       " 'shades',\n",
       " 'toolkit',\n",
       " 'h2o',\n",
       " 'bike',\n",
       " 'rei',\n",
       " 'touch',\n",
       " 'amp',\n",
       " \"i'm\",\n",
       " 'ad',\n",
       " \"what's\",\n",
       " 'iphone']"
      ]
     },
     "execution_count": 842,
     "metadata": {},
     "output_type": "execute_result"
    }
   ],
   "source": [
    "tweet_text_filtered[3111]"
   ]
  },
  {
   "cell_type": "markdown",
   "metadata": {},
   "source": [
    "## Preparing data for some EDA"
   ]
  },
  {
   "cell_type": "code",
   "execution_count": 843,
   "metadata": {
    "collapsed": true
   },
   "outputs": [],
   "source": [
    "# Initialize empty lists\n",
    "hashtags = []\n",
    "user_handles = []\n",
    "# Loop over tweets\n",
    "for tweet in tweet_text_filtered:\n",
    "    # Loop over every word in the tweet\n",
    "    for word in tweet:\n",
    "        # Check whether the word starts with # or @\n",
    "        if word.startswith('#'):\n",
    "            hashtags.append(word)\n",
    "        elif word.startswith('@'):\n",
    "            user_handles.append(word)"
   ]
  },
  {
   "cell_type": "code",
   "execution_count": 844,
   "metadata": {
    "collapsed": true
   },
   "outputs": [],
   "source": [
    "# store the counts for hashtags and user handles\n",
    "count_hashtags = Counter(hashtags)\n",
    "count_user_handles = Counter(user_handles)"
   ]
  },
  {
   "cell_type": "code",
   "execution_count": 845,
   "metadata": {
    "collapsed": false
   },
   "outputs": [],
   "source": [
    "# Find the top 10 HashTags and UserHandles\n",
    "top10_hashtags = count_hashtags.most_common(10)\n",
    "top10_user_handles = count_user_handles.most_common(10)"
   ]
  },
  {
   "cell_type": "code",
   "execution_count": 846,
   "metadata": {
    "collapsed": false
   },
   "outputs": [],
   "source": [
    "# Extract the labels and label counts to use for plotting\n",
    "labels = []\n",
    "label_counts = []\n",
    "for (k, v) in top10_hashtags:\n",
    "    labels.append(k)\n",
    "    label_counts.append(v)"
   ]
  },
  {
   "cell_type": "code",
   "execution_count": 847,
   "metadata": {
    "collapsed": false
   },
   "outputs": [
    {
     "data": {
      "image/png": "[encoded data removed]",
      "text/plain": [
       "<matplotlib.figure.Figure at 0x2aaf52810>"
      ]
     },
     "metadata": {},
     "output_type": "display_data"
    }
   ],
   "source": [
    "plt.figure(figsize=[18,10])\n",
    "sns.barplot(x=labels, y=label_counts, palette=\"Greens_d\");"
   ]
  },
  {
   "cell_type": "code",
   "execution_count": 848,
   "metadata": {
    "collapsed": true
   },
   "outputs": [],
   "source": [
    "# Extract the labels and label counts to use for plotting\n",
    "labels = []\n",
    "label_counts = []\n",
    "for (k, v) in top10_user_handles:\n",
    "    labels.append(k)\n",
    "    label_counts.append(v)"
   ]
  },
  {
   "cell_type": "code",
   "execution_count": 849,
   "metadata": {
    "collapsed": false
   },
   "outputs": [
    {
     "data": {
      "image/png": "[encoded data removed]",
      "text/plain": [
       "<matplotlib.figure.Figure at 0x26c2d2b90>"
      ]
     },
     "metadata": {},
     "output_type": "display_data"
    }
   ],
   "source": [
    "plt.figure(figsize=[18,10])\n",
    "sns.barplot(x=labels, y=label_counts, palette=\"Greens_d\");"
   ]
  },
  {
   "cell_type": "code",
   "execution_count": 850,
   "metadata": {
    "collapsed": false
   },
   "outputs": [
    {
     "data": {
      "text/plain": [
       "['ipad',\n",
       " '#sxsw',\n",
       " '@fludapp',\n",
       " \"they're\",\n",
       " 'giving',\n",
       " 'awesome',\n",
       " 'appreciate',\n",
       " 'likely',\n",
       " 'free',\n",
       " 'also',\n",
       " \"you'll\",\n",
       " 'design',\n",
       " 'iphone',\n",
       " 'app',\n",
       " '@jessedee',\n",
       " 'know']"
      ]
     },
     "execution_count": 850,
     "metadata": {},
     "output_type": "execute_result"
    }
   ],
   "source": [
    "tweet_text_filtered[1]"
   ]
  },
  {
   "cell_type": "markdown",
   "metadata": {},
   "source": [
    "## Stemming the tokens"
   ]
  },
  {
   "cell_type": "code",
   "execution_count": 507,
   "metadata": {
    "collapsed": false
   },
   "outputs": [],
   "source": [
    "tweet_stemmed = []\n",
    "def conditional_stemmer(word):\n",
    "    '''\n",
    "    Input: word\n",
    "    Output: Stemmed-word based on certain conditions\n",
    "    '''\n",
    "    # Check if the word is a handle or hashtag\n",
    "    if word[0] in ['@', '#']:\n",
    "        # if yes then don't modify it\n",
    "        return word\n",
    "    elif word in ['google','apple','iphone']:\n",
    "        return word\n",
    "    # Else stem the word\n",
    "    return stemmer.stem(word)"
   ]
  },
  {
   "cell_type": "code",
   "execution_count": 508,
   "metadata": {
    "collapsed": false
   },
   "outputs": [],
   "source": [
    "# Call the above function and apply it on every tweet\n",
    "tweet_stemmed = [map(conditional_stemmer, tweet) for tweet in tweet_text_filtered]"
   ]
  },
  {
   "cell_type": "code",
   "execution_count": 509,
   "metadata": {
    "collapsed": false
   },
   "outputs": [
    {
     "data": {
      "text/plain": [
       "[u'ipad',\n",
       " '#sxsw',\n",
       " '@fludapp',\n",
       " u\"they'r\",\n",
       " u'give',\n",
       " u'awesom',\n",
       " u'appreci',\n",
       " u'like',\n",
       " u'free',\n",
       " u'also',\n",
       " u\"you'll\",\n",
       " u'design',\n",
       " 'iphone',\n",
       " u'app',\n",
       " '@jessedee',\n",
       " u'know']"
      ]
     },
     "execution_count": 509,
     "metadata": {},
     "output_type": "execute_result"
    }
   ],
   "source": [
    "tweet_stemmed[1]"
   ]
  },
  {
   "cell_type": "markdown",
   "metadata": {},
   "source": [
    "## Finding the bigrams"
   ]
  },
  {
   "cell_type": "code",
   "execution_count": 188,
   "metadata": {
    "collapsed": true
   },
   "outputs": [],
   "source": [
    "# Get the bigrams for every tweet in filtered text\n",
    "tweet_bigram = []\n",
    "for tweet in tweet_stemmed:\n",
    "    tweet_bigram.append(list(ngrams(tweet,2)))"
   ]
  },
  {
   "cell_type": "code",
   "execution_count": 506,
   "metadata": {
    "collapsed": false
   },
   "outputs": [
    {
     "data": {
      "text/plain": [
       "[(u'ipad', '#sxsw'),\n",
       " ('#sxsw', '@fludapp'),\n",
       " ('@fludapp', u\"they'r\"),\n",
       " (u\"they'r\", u'give'),\n",
       " (u'give', u'awesom'),\n",
       " (u'awesom', u'appreci'),\n",
       " (u'appreci', u'like'),\n",
       " (u'like', u'free'),\n",
       " (u'free', u'also'),\n",
       " (u'also', u\"you'll\"),\n",
       " (u\"you'll\", u'design'),\n",
       " (u'design', 'iphone'),\n",
       " ('iphone', u'app'),\n",
       " (u'app', '@jessedee'),\n",
       " ('@jessedee', u'know')]"
      ]
     },
     "execution_count": 506,
     "metadata": {},
     "output_type": "execute_result"
    }
   ],
   "source": [
    "tweet_bigram[1]"
   ]
  },
  {
   "cell_type": "code",
   "execution_count": 199,
   "metadata": {
    "collapsed": false
   },
   "outputs": [],
   "source": [
    "# Get all the bigrams in one list\n",
    "all_bigrams = []\n",
    "for tweet in tweet_bigram:\n",
    "    for pair in tweet:\n",
    "        all_bigrams.append(pair)"
   ]
  },
  {
   "cell_type": "code",
   "execution_count": 203,
   "metadata": {
    "collapsed": false
   },
   "outputs": [
    {
     "data": {
      "text/plain": [
       "[(u'free', u'also'),\n",
       " (u'also', u\"you'll\"),\n",
       " (u\"you'll\", u'design'),\n",
       " (u'design', 'iphone'),\n",
       " ('iphone', u'app'),\n",
       " (u'app', '@jessedee'),\n",
       " ('@jessedee', u'know'),\n",
       " ('@swonderlin', '#sxsw'),\n",
       " ('#sxsw', u'sale'),\n",
       " (u'sale', u'also')]"
      ]
     },
     "execution_count": 203,
     "metadata": {},
     "output_type": "execute_result"
    }
   ],
   "source": [
    "all_bigrams[20:30]"
   ]
  },
  {
   "cell_type": "code",
   "execution_count": 204,
   "metadata": {
    "collapsed": false
   },
   "outputs": [],
   "source": [
    "count_tweet_bigrams = Counter(all_bigrams)"
   ]
  },
  {
   "cell_type": "code",
   "execution_count": 205,
   "metadata": {
    "collapsed": false
   },
   "outputs": [],
   "source": [
    "# Getting the top 10 bigrams\n",
    "top10_bigrams = count_tweet_bigrams.most_common(10)"
   ]
  },
  {
   "cell_type": "code",
   "execution_count": 207,
   "metadata": {
    "collapsed": true
   },
   "outputs": [],
   "source": [
    "# Extract the labels and label counts to use for plotting\n",
    "labels = []\n",
    "label_counts = []\n",
    "for (k, v) in top10_bigrams:\n",
    "    labels.append(str(k))\n",
    "    label_counts.append(v)"
   ]
  },
  {
   "cell_type": "code",
   "execution_count": 208,
   "metadata": {
    "collapsed": false
   },
   "outputs": [
    {
     "data": {
      "image/png": "[encoded data removed]",
      "text/plain": [
       "<matplotlib.figure.Figure at 0x10dd749d0>"
      ]
     },
     "metadata": {},
     "output_type": "display_data"
    }
   ],
   "source": [
    "plt.figure(figsize=[18,10])\n",
    "sns.barplot(x=labels, y=label_counts, palette=\"Greens_d\");"
   ]
  },
  {
   "cell_type": "markdown",
   "metadata": {},
   "source": [
    "## Filtering data further"
   ]
  },
  {
   "cell_type": "code",
   "execution_count": 215,
   "metadata": {
    "collapsed": false
   },
   "outputs": [],
   "source": [
    "# Creating sentences based on tweets\n",
    "new_sentences = []\n",
    "for tweet in tweet_stemmed:\n",
    "    new_sentences.append(\" \".join(tweet))"
   ]
  },
  {
   "cell_type": "code",
   "execution_count": 884,
   "metadata": {
    "collapsed": false
   },
   "outputs": [],
   "source": [
    "# Defining a regex url, hashtags and twitter handles pattern\n",
    "url = r'http[s]?://(?:[a-z]|[0-9]|[$-_@.&+]|[!*\\(\\),]|(?:%[0-9a-f][0-9a-f]))+'\n",
    "handles = r'(?:@[\\w_]+)' # @-mentions\n",
    "hashtags = r\"(?:\\#+[\\w_]+[\\w\\'_\\-]*[\\w_]+)\" # hash-tags"
   ]
  },
  {
   "cell_type": "code",
   "execution_count": 896,
   "metadata": {
    "collapsed": true
   },
   "outputs": [],
   "source": [
    "# Removing all urls from the tweets\n",
    "filtered_tweets_url = []\n",
    "for tweet,sentence in zip(tweet_stemmed,new_sentences):\n",
    "    filtered_tweets_url.append(list(set(tweet)\n",
    "                                    -set(re.findall(url, sentence, flags=0))\n",
    "                                    -set(re.findall(handles, sentence, flags=0))\n",
    "                                    -set(re.findall(hashtags, sentence, flags=0))))"
   ]
  },
  {
   "cell_type": "code",
   "execution_count": 308,
   "metadata": {
    "collapsed": false
   },
   "outputs": [],
   "source": [
    "# Creating a unified data\n",
    "entire_data = []\n",
    "for tweet in filtered_tweets_url:\n",
    "    entire_data += tweet"
   ]
  },
  {
   "cell_type": "code",
   "execution_count": 743,
   "metadata": {
    "collapsed": true
   },
   "outputs": [],
   "source": [
    "# Filtering out words which are less than 3 letters\n",
    "updated_entire_data = []\n",
    "for word in entire_data:\n",
    "    if len(word) > 2 and word != 'link':\n",
    "        updated_entire_data.append(word)"
   ]
  },
  {
   "cell_type": "code",
   "execution_count": 744,
   "metadata": {
    "collapsed": false
   },
   "outputs": [
    {
     "data": {
      "text/plain": [
       "[u'tweet',\n",
       " u'upgrad',\n",
       " u'dead',\n",
       " u'station',\n",
       " 'iphone',\n",
       " u'need',\n",
       " u'ipad',\n",
       " u'appreci',\n",
       " u'give']"
      ]
     },
     "execution_count": 744,
     "metadata": {},
     "output_type": "execute_result"
    }
   ],
   "source": [
    "updated_entire_data[1:10]"
   ]
  },
  {
   "cell_type": "code",
   "execution_count": 755,
   "metadata": {
    "collapsed": true
   },
   "outputs": [],
   "source": [
    "from wordcloud import WordCloud, STOPWORDS"
   ]
  },
  {
   "cell_type": "code",
   "execution_count": 756,
   "metadata": {
    "collapsed": false
   },
   "outputs": [
    {
     "data": {
      "image/png": "[encoded data removed]",
      "text/plain": [
       "<matplotlib.figure.Figure at 0x2adc8c410>"
      ]
     },
     "metadata": {},
     "output_type": "display_data"
    }
   ],
   "source": [
    "# Define the wordcloud\n",
    "wordcloud = WordCloud(stopwords=STOPWORDS, background_color='white', width=1920, height=1080).generate(' '.join(updated_entire_data))\n",
    "plt.figure(figsize=[12,8])\n",
    "plt.imshow(wordcloud)\n",
    "plt.axis(\"off\")\n",
    "plt.show()"
   ]
  },
  {
   "cell_type": "markdown",
   "metadata": {},
   "source": [
    "## Build the vocabulary of unique words"
   ]
  },
  {
   "cell_type": "code",
   "execution_count": 310,
   "metadata": {
    "collapsed": true
   },
   "outputs": [],
   "source": [
    "count_entire_data = Counter(updated_entire_data)"
   ]
  },
  {
   "cell_type": "code",
   "execution_count": 312,
   "metadata": {
    "collapsed": false
   },
   "outputs": [],
   "source": [
    "# Create vocab i.e. unique words in the entire data\n",
    "vocab = dict(count_entire_data).keys()"
   ]
  },
  {
   "cell_type": "markdown",
   "metadata": {},
   "source": [
    "## Initializing Count Vectorizer and getting the matrix X and predicted labels y"
   ]
  },
  {
   "cell_type": "code",
   "execution_count": 660,
   "metadata": {
    "collapsed": true
   },
   "outputs": [],
   "source": [
    "cv = CountVectorizer(vocabulary=vocab, ngram_range=(1,3))"
   ]
  },
  {
   "cell_type": "code",
   "execution_count": 661,
   "metadata": {
    "collapsed": false
   },
   "outputs": [],
   "source": [
    "X=cv.fit_transform(new_sentences).toarray()"
   ]
  },
  {
   "cell_type": "code",
   "execution_count": 662,
   "metadata": {
    "collapsed": false
   },
   "outputs": [
    {
     "data": {
      "text/plain": [
       "array([[0, 0, 0, ..., 0, 0, 0],\n",
       "       [0, 0, 0, ..., 0, 0, 0],\n",
       "       [0, 0, 0, ..., 0, 0, 0],\n",
       "       ..., \n",
       "       [0, 0, 0, ..., 0, 0, 0],\n",
       "       [0, 0, 0, ..., 0, 0, 0],\n",
       "       [0, 0, 0, ..., 0, 0, 0]])"
      ]
     },
     "execution_count": 662,
     "metadata": {},
     "output_type": "execute_result"
    }
   ],
   "source": [
    "X"
   ]
  },
  {
   "cell_type": "code",
   "execution_count": 663,
   "metadata": {
    "collapsed": true
   },
   "outputs": [],
   "source": [
    "y = new_data.sentiment.values"
   ]
  },
  {
   "cell_type": "markdown",
   "metadata": {},
   "source": [
    "## Making the train/test split"
   ]
  },
  {
   "cell_type": "code",
   "execution_count": 664,
   "metadata": {
    "collapsed": true
   },
   "outputs": [],
   "source": [
    "# Making the train test split\n",
    "X_train, X_test, y_train, y_test = train_test_split(X, y, test_size=0.25, random_state=42)"
   ]
  },
  {
   "cell_type": "markdown",
   "metadata": {},
   "source": [
    "## Initializing the models"
   ]
  },
  {
   "cell_type": "code",
   "execution_count": 665,
   "metadata": {
    "collapsed": true
   },
   "outputs": [],
   "source": [
    "# Defining the models\n",
    "nb = MultinomialNB()\n",
    "clf = svm.SVC(kernel='linear')\n",
    "rfc = RandomForestClassifier()\n",
    "etc = ExtraTreesClassifier()\n",
    "abc = AdaBoostClassifier()"
   ]
  },
  {
   "cell_type": "markdown",
   "metadata": {},
   "source": [
    "## Fitting the data to different models"
   ]
  },
  {
   "cell_type": "code",
   "execution_count": 666,
   "metadata": {
    "collapsed": false
   },
   "outputs": [
    {
     "data": {
      "text/plain": [
       "MultinomialNB(alpha=1.0, class_prior=None, fit_prior=True)"
      ]
     },
     "execution_count": 666,
     "metadata": {},
     "output_type": "execute_result"
    }
   ],
   "source": [
    "nb.fit(X_train,y_train)"
   ]
  },
  {
   "cell_type": "code",
   "execution_count": 667,
   "metadata": {
    "collapsed": false
   },
   "outputs": [
    {
     "data": {
      "text/plain": [
       "SVC(C=1.0, cache_size=200, class_weight=None, coef0=0.0,\n",
       "  decision_function_shape=None, degree=3, gamma='auto', kernel='linear',\n",
       "  max_iter=-1, probability=False, random_state=None, shrinking=True,\n",
       "  tol=0.001, verbose=False)"
      ]
     },
     "execution_count": 667,
     "metadata": {},
     "output_type": "execute_result"
    }
   ],
   "source": [
    "clf.fit(X_train, y_train) "
   ]
  },
  {
   "cell_type": "code",
   "execution_count": 668,
   "metadata": {
    "collapsed": false
   },
   "outputs": [
    {
     "data": {
      "text/plain": [
       "RandomForestClassifier(bootstrap=True, class_weight=None, criterion='gini',\n",
       "            max_depth=None, max_features='auto', max_leaf_nodes=None,\n",
       "            min_samples_leaf=1, min_samples_split=2,\n",
       "            min_weight_fraction_leaf=0.0, n_estimators=10, n_jobs=1,\n",
       "            oob_score=False, random_state=None, verbose=0,\n",
       "            warm_start=False)"
      ]
     },
     "execution_count": 668,
     "metadata": {},
     "output_type": "execute_result"
    }
   ],
   "source": [
    "rfc.fit(X_train, y_train) "
   ]
  },
  {
   "cell_type": "code",
   "execution_count": 669,
   "metadata": {
    "collapsed": false
   },
   "outputs": [
    {
     "data": {
      "text/plain": [
       "ExtraTreesClassifier(bootstrap=False, class_weight=None, criterion='gini',\n",
       "           max_depth=None, max_features='auto', max_leaf_nodes=None,\n",
       "           min_samples_leaf=1, min_samples_split=2,\n",
       "           min_weight_fraction_leaf=0.0, n_estimators=10, n_jobs=1,\n",
       "           oob_score=False, random_state=None, verbose=0, warm_start=False)"
      ]
     },
     "execution_count": 669,
     "metadata": {},
     "output_type": "execute_result"
    }
   ],
   "source": [
    "etc.fit(X_train, y_train) "
   ]
  },
  {
   "cell_type": "code",
   "execution_count": 670,
   "metadata": {
    "collapsed": false
   },
   "outputs": [
    {
     "data": {
      "text/plain": [
       "AdaBoostClassifier(algorithm='SAMME.R', base_estimator=None,\n",
       "          learning_rate=1.0, n_estimators=50, random_state=None)"
      ]
     },
     "execution_count": 670,
     "metadata": {},
     "output_type": "execute_result"
    }
   ],
   "source": [
    "abc.fit(X_train, y_train)"
   ]
  },
  {
   "cell_type": "markdown",
   "metadata": {},
   "source": [
    "## Predicting based on X_test"
   ]
  },
  {
   "cell_type": "code",
   "execution_count": 671,
   "metadata": {
    "collapsed": false
   },
   "outputs": [],
   "source": [
    "nb_pred_vals = nb.predict(X_test)"
   ]
  },
  {
   "cell_type": "code",
   "execution_count": 672,
   "metadata": {
    "collapsed": true
   },
   "outputs": [],
   "source": [
    "svc_pred_vals = clf.predict(X_test)"
   ]
  },
  {
   "cell_type": "code",
   "execution_count": 673,
   "metadata": {
    "collapsed": true
   },
   "outputs": [],
   "source": [
    "rfc_pred_vals = rfc.predict(X_test)"
   ]
  },
  {
   "cell_type": "code",
   "execution_count": 674,
   "metadata": {
    "collapsed": true
   },
   "outputs": [],
   "source": [
    "etc_pred_vals = etc.predict(X_test)"
   ]
  },
  {
   "cell_type": "code",
   "execution_count": 675,
   "metadata": {
    "collapsed": false
   },
   "outputs": [],
   "source": [
    "abc_pred_vals = abc.predict(X_test)"
   ]
  },
  {
   "cell_type": "markdown",
   "metadata": {},
   "source": [
    "## Calculating Accuracy"
   ]
  },
  {
   "cell_type": "code",
   "execution_count": 676,
   "metadata": {
    "collapsed": false
   },
   "outputs": [],
   "source": [
    "accuracy_nb = accuracy_score(y_test,nb_pred_vals)\n",
    "accuracy_svm = accuracy_score(y_test,svc_pred_vals)\n",
    "accuracy_rfc = accuracy_score(y_test,rfc_pred_vals)\n",
    "accuracy_etc = accuracy_score(y_test,etc_pred_vals)\n",
    "accuracy_abc = accuracy_score(y_test,abc_pred_vals)"
   ]
  },
  {
   "cell_type": "markdown",
   "metadata": {},
   "source": [
    "## Calculating F1-Score"
   ]
  },
  {
   "cell_type": "code",
   "execution_count": 677,
   "metadata": {
    "collapsed": false
   },
   "outputs": [],
   "source": [
    "f1_nb = f1_score(y_test,nb_pred_vals,average='weighted')\n",
    "f1_svm = f1_score(y_test,svc_pred_vals,average='weighted')\n",
    "f1_rfc = f1_score(y_test,rfc_pred_vals,average='weighted')\n",
    "f1_etc = f1_score(y_test,etc_pred_vals,average='weighted')\n",
    "f1_abc = f1_score(y_test,abc_pred_vals,average='weighted')"
   ]
  },
  {
   "cell_type": "markdown",
   "metadata": {},
   "source": [
    "## Comparing accuracy / F1 scores of different models"
   ]
  },
  {
   "cell_type": "code",
   "execution_count": 678,
   "metadata": {
    "collapsed": false
   },
   "outputs": [],
   "source": [
    "models = [\"Multinomial NaiveBayes\",\"SVM\",\"RandomForest Classifier\",\"ExtraTrees Classifier\",\"AdaBoost Classifier\"]"
   ]
  },
  {
   "cell_type": "code",
   "execution_count": 679,
   "metadata": {
    "collapsed": true
   },
   "outputs": [],
   "source": [
    "f1_scores = [f1_nb,f1_svm,f1_rfc,f1_etc,f1_abc]"
   ]
  },
  {
   "cell_type": "code",
   "execution_count": 680,
   "metadata": {
    "collapsed": true
   },
   "outputs": [],
   "source": [
    "accuracy = [accuracy_nb,accuracy_svm,accuracy_rfc,accuracy_etc,accuracy_abc]"
   ]
  },
  {
   "cell_type": "code",
   "execution_count": 681,
   "metadata": {
    "collapsed": false
   },
   "outputs": [],
   "source": [
    "sorted_models_accuracy = [model for acc, model in sorted(zip(accuracy, models), reverse=True)]\n",
    "sorted_models_f1 = [model for f1, model in sorted(zip(f1_scores, models), reverse=True)]"
   ]
  },
  {
   "cell_type": "code",
   "execution_count": 682,
   "metadata": {
    "collapsed": false
   },
   "outputs": [
    {
     "data": {
      "image/png": "[encoded data removed]",
      "text/plain": [
       "<matplotlib.figure.Figure at 0x265808950>"
      ]
     },
     "metadata": {},
     "output_type": "display_data"
    }
   ],
   "source": [
    "plt.figure(figsize=[12,8])\n",
    "sns.barplot(x=sorted_models_accuracy, y=sorted(accuracy, reverse=True), palette=\"Blues_d\")\n",
    "plt.ylim((0.8,0.86));"
   ]
  },
  {
   "cell_type": "code",
   "execution_count": 683,
   "metadata": {
    "collapsed": false
   },
   "outputs": [
    {
     "data": {
      "image/png": "[encoded data removed]",
      "text/plain": [
       "<matplotlib.figure.Figure at 0x277e67c90>"
      ]
     },
     "metadata": {},
     "output_type": "display_data"
    }
   ],
   "source": [
    "plt.figure(figsize=[12,8])\n",
    "sns.barplot(x=sorted_models_f1, y=sorted(f1_scores, reverse=True), palette=\"Reds_d\")\n",
    "plt.ylim((0.70,0.85));"
   ]
  },
  {
   "cell_type": "markdown",
   "metadata": {},
   "source": [
    "## Converting string labels to integer labels to prepare data for GridSearch"
   ]
  },
  {
   "cell_type": "code",
   "execution_count": 684,
   "metadata": {
    "collapsed": true
   },
   "outputs": [],
   "source": [
    "y_numerical = new_data['sentiment'].map({'Positive':2,'Negative':1,'Neutral':0}).values"
   ]
  },
  {
   "cell_type": "code",
   "execution_count": 685,
   "metadata": {
    "collapsed": false
   },
   "outputs": [],
   "source": [
    "# Making the train test split based on numerical labels\n",
    "X_train_numerical, X_test_numerical, y_train_numerical, y_test_numerical = train_test_split(X, y_numerical, test_size=0.25, random_state=42)"
   ]
  },
  {
   "cell_type": "markdown",
   "metadata": {},
   "source": [
    "## Implementing Grid Search for ExtraTreesClassifier"
   ]
  },
  {
   "cell_type": "code",
   "execution_count": 687,
   "metadata": {
    "collapsed": false
   },
   "outputs": [
    {
     "name": "stdout",
     "output_type": "stream",
     "text": [
      "Fitting 3 folds for each of 144 candidates, totalling 432 fits\n"
     ]
    },
    {
     "name": "stderr",
     "output_type": "stream",
     "text": [
      "[Parallel(n_jobs=-1)]: Done  42 tasks      | elapsed:    7.4s\n",
      "[Parallel(n_jobs=-1)]: Done 192 tasks      | elapsed:  5.1min\n",
      "[Parallel(n_jobs=-1)]: Done 432 out of 432 | elapsed: 30.5min finished\n"
     ]
    },
    {
     "name": "stdout",
     "output_type": "stream",
     "text": [
      "best parameters: {'bootstrap': False, 'min_samples_leaf': 1, 'n_estimators': 30, 'min_samples_split': 4, 'random_state': 1, 'max_features': 'sqrt', 'max_depth': None}\n"
     ]
    }
   ],
   "source": [
    "# Defining the parameter grid\n",
    "extra_trees_grid = {'max_depth': [3, None],\n",
    "                      'max_features': ['sqrt', 'log2', None],\n",
    "                      'min_samples_split': [1, 4],\n",
    "                      'min_samples_leaf': [1, 4],\n",
    "                      'bootstrap': [True, False],\n",
    "                      'n_estimators': [10, 20, 30],\n",
    "                      'random_state': [1]}\n",
    "\n",
    "# Running gridsearch on the parameter grid\n",
    "etc_gridsearch = GridSearchCV(ExtraTreesClassifier(),\n",
    "                             extra_trees_grid,\n",
    "                             n_jobs=-1,\n",
    "                             verbose=True,\n",
    "                             scoring='mean_squared_error')\n",
    "\n",
    "# Fitting the train data prepared above\n",
    "etc_gridsearch.fit(X_train_numerical, y_train_numerical)\n",
    "\n",
    "# Printing the best parameters\n",
    "print \"best parameters:\", etc_gridsearch.best_params_"
   ]
  },
  {
   "cell_type": "code",
   "execution_count": 1044,
   "metadata": {
    "collapsed": false
   },
   "outputs": [],
   "source": [
    "# Printing the best model and the score\n",
    "best_etc_model = etc_gridsearch.best_estimator_"
   ]
  },
  {
   "cell_type": "code",
   "execution_count": 1045,
   "metadata": {
    "collapsed": false
   },
   "outputs": [
    {
     "data": {
      "text/plain": [
       "ExtraTreesClassifier(bootstrap=False, class_weight=None, criterion='gini',\n",
       "           max_depth=None, max_features='sqrt', max_leaf_nodes=None,\n",
       "           min_samples_leaf=1, min_samples_split=4,\n",
       "           min_weight_fraction_leaf=0.0, n_estimators=30, n_jobs=1,\n",
       "           oob_score=False, random_state=1, verbose=0, warm_start=False)"
      ]
     },
     "execution_count": 1045,
     "metadata": {},
     "output_type": "execute_result"
    }
   ],
   "source": [
    "# Just looking at the best model\n",
    "best_etc_model"
   ]
  },
  {
   "cell_type": "code",
   "execution_count": 718,
   "metadata": {
    "collapsed": true
   },
   "outputs": [],
   "source": [
    "# Defining a function to calculate f1 scores and accuracy\n",
    "def cross_validation_scores(X_train, X_test, y_train, y_test):\n",
    "    '''\n",
    "    INPUT: Train data and test data for X and y\n",
    "    OUTPUT: Array(f1_scores), Array(accuracy_score)\n",
    "    '''\n",
    "    # Getting the best model\n",
    "    etc_model = best_etc_model\n",
    "    # Fitting the data\n",
    "    etc_model.fit(X_train,y_train)\n",
    "    # Calculating f1 weighted scores\n",
    "    f1_scores = cross_validation.cross_val_score(etc_model,X_test,y_test,cv=15, scoring=\"f1_weighted\")\n",
    "    # Calculating accuracy\n",
    "    acc_scores = cross_validation.cross_val_score(etc_model,X_test,y_test,cv=15, scoring=\"accuracy\")\n",
    "    # Return f1 score and accuracy\n",
    "    return f1_scores, acc_scores"
   ]
  },
  {
   "cell_type": "code",
   "execution_count": 705,
   "metadata": {
    "collapsed": false
   },
   "outputs": [],
   "source": [
    "# Save the cross validation scores returned from the function in a variable\n",
    "cross_val_scores = cross_validation_scores(X_train, X_test, y_train, y_test)"
   ]
  },
  {
   "cell_type": "code",
   "execution_count": 717,
   "metadata": {
    "collapsed": false
   },
   "outputs": [
    {
     "data": {
      "image/png": "[encoded data removed]",
      "text/plain": [
       "<matplotlib.figure.Figure at 0x279336390>"
      ]
     },
     "metadata": {},
     "output_type": "display_data"
    }
   ],
   "source": [
    "# Plot the cross_val_scores\n",
    "plt.figure(figsize=(15,8))\n",
    "plt.plot(cross_val_scores[0])\n",
    "plt.plot(cross_val_scores[1])\n",
    "plt.xlim((0,16));\n",
    "plt.xlabel('cross-validation generator values')\n",
    "plt.ylabel('Score')\n",
    "plt.title('Cross Validation Scores for ExtraTreesClassifier')\n",
    "plt.legend([\"F1-Score\",\"Accuracy\"], loc='upper right')\n",
    "plt.show()"
   ]
  },
  {
   "cell_type": "markdown",
   "metadata": {},
   "source": [
    "## Building a confusion matrix for the best model"
   ]
  },
  {
   "cell_type": "code",
   "execution_count": 699,
   "metadata": {
    "collapsed": false
   },
   "outputs": [
    {
     "data": {
      "text/plain": [
       "array([[ 61,   0,  78],\n",
       "       [  3,   1,  17],\n",
       "       [ 20,   1, 642]])"
      ]
     },
     "execution_count": 699,
     "metadata": {},
     "output_type": "execute_result"
    }
   ],
   "source": [
    "confusion_matrix(y_test,etc_pred_vals)"
   ]
  },
  {
   "cell_type": "code",
   "execution_count": 700,
   "metadata": {
    "collapsed": true
   },
   "outputs": [],
   "source": [
    "cm = ConfusionMatrix(y_test, etc_pred_vals)"
   ]
  },
  {
   "cell_type": "code",
   "execution_count": 701,
   "metadata": {
    "collapsed": false
   },
   "outputs": [
    {
     "data": {
      "image/png": "[encoded data removed]",
      "text/plain": [
       "<matplotlib.figure.Figure at 0x2657ff350>"
      ]
     },
     "metadata": {},
     "output_type": "display_data"
    }
   ],
   "source": [
    "cm.plot();"
   ]
  },
  {
   "cell_type": "markdown",
   "metadata": {},
   "source": [
    "## Using the TfidfVectorizer to see if it improves accuracy of the model"
   ]
  },
  {
   "cell_type": "code",
   "execution_count": 491,
   "metadata": {
    "collapsed": true
   },
   "outputs": [],
   "source": [
    "tfidf = TfidfVectorizer(vocabulary=vocab)"
   ]
  },
  {
   "cell_type": "code",
   "execution_count": 492,
   "metadata": {
    "collapsed": true
   },
   "outputs": [],
   "source": [
    "X_tfidf = tfidf.fit_transform(new_sentences).toarray()"
   ]
  },
  {
   "cell_type": "code",
   "execution_count": 493,
   "metadata": {
    "collapsed": false
   },
   "outputs": [
    {
     "data": {
      "text/plain": [
       "array([[ 0.,  0.,  0., ...,  0.,  0.,  0.],\n",
       "       [ 0.,  0.,  0., ...,  0.,  0.,  0.],\n",
       "       [ 0.,  0.,  0., ...,  0.,  0.,  0.],\n",
       "       ..., \n",
       "       [ 0.,  0.,  0., ...,  0.,  0.,  0.],\n",
       "       [ 0.,  0.,  0., ...,  0.,  0.,  0.],\n",
       "       [ 0.,  0.,  0., ...,  0.,  0.,  0.]])"
      ]
     },
     "execution_count": 493,
     "metadata": {},
     "output_type": "execute_result"
    }
   ],
   "source": [
    "X_tfidf"
   ]
  },
  {
   "cell_type": "code",
   "execution_count": 502,
   "metadata": {
    "collapsed": true
   },
   "outputs": [],
   "source": [
    "X_train_tfidf, X_test_tfidf, y_train, y_test = train_test_split(X, y, test_size=0.25, random_state=42)"
   ]
  },
  {
   "cell_type": "code",
   "execution_count": 1041,
   "metadata": {
    "collapsed": false
   },
   "outputs": [
    {
     "data": {
      "text/plain": [
       "ExtraTreesClassifier(bootstrap=False, class_weight=None, criterion='gini',\n",
       "           max_depth=None, max_features='sqrt', max_leaf_nodes=None,\n",
       "           min_samples_leaf=1, min_samples_split=4,\n",
       "           min_weight_fraction_leaf=0.0, n_estimators=30, n_jobs=1,\n",
       "           oob_score=False, random_state=1, verbose=0, warm_start=False)"
      ]
     },
     "execution_count": 1041,
     "metadata": {},
     "output_type": "execute_result"
    }
   ],
   "source": [
    "best_etc_model.fit(X_train_tfidf, y_train)"
   ]
  },
  {
   "cell_type": "code",
   "execution_count": 1042,
   "metadata": {
    "collapsed": true
   },
   "outputs": [],
   "source": [
    "etc_tfidf_pred = etc.predict(X_test_tfidf)"
   ]
  },
  {
   "cell_type": "code",
   "execution_count": 1047,
   "metadata": {
    "collapsed": false
   },
   "outputs": [
    {
     "name": "stdout",
     "output_type": "stream",
     "text": [
      "Accuracy:  0.855407047388\n",
      "F1-Score:  0.833458863052\n"
     ]
    }
   ],
   "source": [
    "print \"Accuracy: \",accuracy_score(y_test,etc_tfidf_pred)\n",
    "print \"F1-Score: \",f1_score(y_test,etc_tfidf_pred,average='weighted')"
   ]
  },
  {
   "cell_type": "markdown",
   "metadata": {},
   "source": [
    "## Word2Vec "
   ]
  },
  {
   "cell_type": "code",
   "execution_count": 758,
   "metadata": {
    "collapsed": false
   },
   "outputs": [],
   "source": [
    "from gensim import corpora, models, similarities\n",
    "from gensim.models.word2vec import Word2Vec"
   ]
  },
  {
   "cell_type": "code",
   "execution_count": 791,
   "metadata": {
    "collapsed": false
   },
   "outputs": [],
   "source": [
    "filtered_sentence = []\n",
    "for tweet in filtered_tweets_url:\n",
    "    filtered_sentence.append(' '.join(tweet))"
   ]
  },
  {
   "cell_type": "code",
   "execution_count": 792,
   "metadata": {
    "collapsed": false
   },
   "outputs": [
    {
     "data": {
      "text/plain": [
       "u\"ipad appreci give app they'r free like also you'll design iphone awesom know\""
      ]
     },
     "execution_count": 792,
     "metadata": {},
     "output_type": "execute_result"
    }
   ],
   "source": [
    "filtered_sentence[1]"
   ]
  },
  {
   "cell_type": "code",
   "execution_count": 840,
   "metadata": {
    "collapsed": false
   },
   "outputs": [
    {
     "data": {
      "text/plain": [
       "[u'ipad',\n",
       " u'appreci',\n",
       " u'give',\n",
       " u'app',\n",
       " u\"they'r\",\n",
       " u'free',\n",
       " u'like',\n",
       " u'also',\n",
       " u\"you'll\",\n",
       " u'design',\n",
       " 'iphone',\n",
       " u'awesom',\n",
       " u'know']"
      ]
     },
     "execution_count": 840,
     "metadata": {},
     "output_type": "execute_result"
    }
   ],
   "source": [
    "filtered_tweets_url[1]"
   ]
  },
  {
   "cell_type": "code",
   "execution_count": 897,
   "metadata": {
    "collapsed": true
   },
   "outputs": [],
   "source": [
    "# Removing all urls from the tweets\n",
    "w2v_sentence = []\n",
    "for tweet,sentence in zip(tweet_text_filtered,new_sentences):\n",
    "    w2v_sentence.append(list(set(tweet)\n",
    "                                    -set(re.findall(url, sentence, flags=0))\n",
    "                                    -set(re.findall(handles, sentence, flags=0))\n",
    "                                    -set(re.findall(hashtags, sentence, flags=0))))"
   ]
  },
  {
   "cell_type": "code",
   "execution_count": 899,
   "metadata": {
    "collapsed": false
   },
   "outputs": [],
   "source": [
    "# Removing all words less than length of 2\n",
    "w2v_sentence_rem_sm_wd = []\n",
    "w2v_sentence_temp = []\n",
    "for tweet in w2v_sentence:\n",
    "    w2v_sentence_temp = []\n",
    "    for word in tweet:\n",
    "        if len(word) > 2:\n",
    "            w2v_sentence_temp.append(word)\n",
    "    w2v_sentence_rem_sm_wd.append(w2v_sentence_temp)"
   ]
  },
  {
   "cell_type": "code",
   "execution_count": 901,
   "metadata": {
    "collapsed": false
   },
   "outputs": [
    {
     "data": {
      "text/plain": [
       "['ipad',\n",
       " \"they're\",\n",
       " 'giving',\n",
       " 'awesome',\n",
       " 'appreciate',\n",
       " 'likely',\n",
       " 'free',\n",
       " 'also',\n",
       " \"you'll\",\n",
       " 'design',\n",
       " 'iphone',\n",
       " 'app',\n",
       " 'know']"
      ]
     },
     "execution_count": 901,
     "metadata": {},
     "output_type": "execute_result"
    }
   ],
   "source": [
    "w2v_sentence_rem_sm_wd[1]"
   ]
  },
  {
   "cell_type": "code",
   "execution_count": 1066,
   "metadata": {
    "collapsed": false
   },
   "outputs": [],
   "source": [
    "# model = Word2Vec(LineSentence(infile), size=200, min_count=5, workers=4)\n",
    "model = Word2Vec(w2v_sentence_rem_sm_wd, size=200, min_count=5, window = 5)"
   ]
  },
  {
   "cell_type": "code",
   "execution_count": 1068,
   "metadata": {
    "collapsed": true
   },
   "outputs": [],
   "source": [
    "model_name = \"w2v_first_model\"\n",
    "model.save(model_name)"
   ]
  },
  {
   "cell_type": "code",
   "execution_count": 1069,
   "metadata": {
    "collapsed": false,
    "scrolled": true
   },
   "outputs": [
    {
     "data": {
      "text/plain": [
       "[('users', 0.991290807723999),\n",
       " ('party', 0.9911647439002991),\n",
       " ('search', 0.9902166724205017),\n",
       " ('marissa', 0.9887163639068604),\n",
       " ('fun', 0.9815832376480103),\n",
       " ('worlds', 0.9788117408752441),\n",
       " ('hotpot', 0.976046085357666),\n",
       " ('saving', 0.9758152961730957),\n",
       " ('big', 0.9745327234268188),\n",
       " ('awesome', 0.9737551212310791)]"
      ]
     },
     "execution_count": 1069,
     "metadata": {},
     "output_type": "execute_result"
    }
   ],
   "source": [
    "model.most_similar('maps')"
   ]
  },
  {
   "cell_type": "code",
   "execution_count": 1116,
   "metadata": {
    "collapsed": false
   },
   "outputs": [],
   "source": [
    "def vectorizer(tweet):\n",
    "    '''\n",
    "    Input: Takes in a string (tweet)\n",
    "    Output: Returns the averaged vector for a tweet as numpy array\n",
    "    '''\n",
    "    tweet = tweet.split()\n",
    "    w2v_vector_sum = 0\n",
    "    for word in tweet:\n",
    "        if word in model.vocab:\n",
    "            w2v_vector_sum += model[word]\n",
    "    return np.asarray(w2v_vector_sum/len(tweet))"
   ]
  },
  {
   "cell_type": "code",
   "execution_count": 1121,
   "metadata": {
    "collapsed": false
   },
   "outputs": [],
   "source": [
    "# Create vectorized list\n",
    "vectorized_list = []\n",
    "for tweet in filtered_sentence_rem_sm_wd:\n",
    "    vectorized_list.append(vectorizer(tweet))"
   ]
  },
  {
   "cell_type": "code",
   "execution_count": 1124,
   "metadata": {
    "collapsed": false
   },
   "outputs": [
    {
     "data": {
      "text/plain": [
       "array([-0.0032013 ,  0.00379287, -0.01468364,  0.00120866,  0.01958985,\n",
       "       -0.00021769,  0.0002011 , -0.01341416, -0.01473748, -0.00632167,\n",
       "        0.00100591,  0.00285862, -0.01315262, -0.01025625,  0.02179063,\n",
       "       -0.01726107,  0.03008166, -0.02441887,  0.01912558, -0.00817374,\n",
       "       -0.02260858, -0.00292914, -0.02799538, -0.00101974,  0.01278347,\n",
       "       -0.00136051,  0.00016651, -0.01521407, -0.00107516,  0.00232555,\n",
       "       -0.00432409, -0.00826718,  0.00358371,  0.01527398,  0.00450414,\n",
       "        0.0167495 ,  0.0008395 , -0.02808351, -0.01645363, -0.00310839,\n",
       "       -0.00927399,  0.0064035 ,  0.00951814, -0.0247311 , -0.0169742 ,\n",
       "       -0.00361123, -0.00692802,  0.00123875,  0.00024589,  0.01140301,\n",
       "        0.00584099,  0.00775178,  0.00606085, -0.0040379 ,  0.00095733,\n",
       "        0.012637  ,  0.0053049 ,  0.01469654,  0.01009501, -0.02686182,\n",
       "       -0.0021066 , -0.00709751, -0.01084655,  0.02653901, -0.01593016,\n",
       "       -0.00165773, -0.00550058, -0.0018004 , -0.01746556, -0.00223932,\n",
       "        0.01514675, -0.01214327,  0.02643877, -0.01724306, -0.00642515,\n",
       "       -0.00293537,  0.00617386,  0.00307555,  0.00882273,  0.00433978,\n",
       "       -0.00519472, -0.00942266, -0.0052072 ,  0.006238  , -0.01359811,\n",
       "       -0.00477143, -0.01585806, -0.01314466,  0.01650047,  0.00922231,\n",
       "        0.00688723, -0.0057068 ,  0.01353024,  0.01654545, -0.00403213,\n",
       "        0.02016717, -0.01135635, -0.00224396,  0.00138189,  0.00821683,\n",
       "        0.01384333,  0.00911748, -0.0137448 , -0.01868483,  0.00475061,\n",
       "       -0.00575814,  0.0106239 , -0.00565927, -0.00154729,  0.01794818,\n",
       "       -0.0093275 , -0.02611648, -0.02948234,  0.00283788,  0.01963801,\n",
       "        0.00742189,  0.00466832, -0.01296115, -0.00171454, -0.01611269,\n",
       "       -0.00085789, -0.00685429, -0.00847939, -0.00447135, -0.00848604,\n",
       "       -0.00888732,  0.01328328,  0.00396997,  0.00230921, -0.00858406,\n",
       "        0.01231936,  0.00322033, -0.02129534, -0.00158512,  0.00227651,\n",
       "       -0.00287078, -0.00317544, -0.0023979 , -0.00580442, -0.00926461,\n",
       "        0.00601191,  0.00619112,  0.02485327,  0.0009014 ,  0.00616422,\n",
       "        0.00811867,  0.00862505,  0.0138826 ,  0.00172012, -0.02026617,\n",
       "        0.00288364, -0.00177241, -0.00225033,  0.02100637,  0.01225335,\n",
       "        0.02343438,  0.00109989, -0.00742533, -0.02016617,  0.00502431,\n",
       "       -0.00851773,  0.00336595,  0.007799  , -0.01036587, -0.01455702,\n",
       "        0.00955354,  0.00789947,  0.0108647 , -0.01355582,  0.01550067,\n",
       "       -0.00081546, -0.00492491, -0.02959903, -0.00043   , -0.01111666,\n",
       "        0.01704146,  0.00109353,  0.01133978, -0.01370781, -0.00252339,\n",
       "       -0.00516823, -0.00523506, -0.00807671,  0.0077251 ,  0.00622722,\n",
       "       -0.000772  , -0.00380893,  0.00331072, -0.00633154, -0.00581841,\n",
       "       -0.00443214,  0.01067411,  0.00104871,  0.00148522,  0.01756731,\n",
       "        0.00989849,  0.00923994,  0.002963  , -0.01430423, -0.01681005], dtype=float32)"
      ]
     },
     "execution_count": 1124,
     "metadata": {},
     "output_type": "execute_result"
    }
   ],
   "source": [
    "vectorized_list[1]"
   ]
  },
  {
   "cell_type": "markdown",
   "metadata": {},
   "source": [
    "## Graph Lab"
   ]
  },
  {
   "cell_type": "code",
   "execution_count": 776,
   "metadata": {
    "collapsed": true
   },
   "outputs": [],
   "source": [
    "import graphlab as gl"
   ]
  },
  {
   "cell_type": "code",
   "execution_count": 789,
   "metadata": {
    "collapsed": true
   },
   "outputs": [],
   "source": [
    "# Creating a new SFrame based on new_data\n",
    "data_sf = gl.SFrame(new_data)"
   ]
  },
  {
   "cell_type": "code",
   "execution_count": 915,
   "metadata": {
    "collapsed": true
   },
   "outputs": [],
   "source": [
    "# Join list items to create a sentence\n",
    "filtered_sentence_rem_sm_wd = []\n",
    "for tweet in w2v_sentence_rem_sm_wd:\n",
    "    filtered_sentence_rem_sm_wd.append(' '.join(tweet))"
   ]
  },
  {
   "cell_type": "code",
   "execution_count": 916,
   "metadata": {
    "collapsed": true
   },
   "outputs": [],
   "source": [
    "data_sf['filtered_tweets'] = filtered_sentence_rem_sm_wd"
   ]
  },
  {
   "cell_type": "code",
   "execution_count": null,
   "metadata": {
    "collapsed": true
   },
   "outputs": [],
   "source": [
    "# Create Unigrams"
   ]
  },
  {
   "cell_type": "code",
   "execution_count": 917,
   "metadata": {
    "collapsed": false
   },
   "outputs": [],
   "source": [
    "wc_filtered_tweets = gl.text_analytics.count_words(data_sf['filtered_tweets'])\n",
    "data_sf['wc_filtered_tweets'] = wc_filtered_tweets"
   ]
  },
  {
   "cell_type": "code",
   "execution_count": 918,
   "metadata": {
    "collapsed": false
   },
   "outputs": [],
   "source": [
    "# Create Bigrams"
   ]
  },
  {
   "cell_type": "code",
   "execution_count": null,
   "metadata": {
    "collapsed": true
   },
   "outputs": [],
   "source": [
    "bigram_filtered_tweets = gl.text_analytics.count_ngrams(data_sf['filtered_tweets'], n=2)\n",
    "data_sf['bigram_filtered_tweets'] = bigram_filtered_tweets"
   ]
  },
  {
   "cell_type": "code",
   "execution_count": 919,
   "metadata": {
    "collapsed": false
   },
   "outputs": [],
   "source": [
    "data_sf['tfidf'] = gl.text_analytics.tf_idf(data_sf['wc_filtered_tweets'])"
   ]
  },
  {
   "cell_type": "code",
   "execution_count": null,
   "metadata": {
    "collapsed": true
   },
   "outputs": [],
   "source": [
    "# Tweet length"
   ]
  },
  {
   "cell_type": "code",
   "execution_count": 1005,
   "metadata": {
    "collapsed": true
   },
   "outputs": [],
   "source": [
    "tweet_length = []\n",
    "tweet_length_sum = 0\n",
    "for tweet in w2v_sentence_rem_sm_wd:\n",
    "    tweet_length_sum = 0\n",
    "    for word in tweet:\n",
    "        tweet_length_sum +=1\n",
    "    tweet_length.append(tweet_length_sum)"
   ]
  },
  {
   "cell_type": "code",
   "execution_count": 1008,
   "metadata": {
    "collapsed": false
   },
   "outputs": [
    {
     "data": {
      "text/plain": [
       "[13, 3, 7, 15, 9, 7, 10, 9, 11]"
      ]
     },
     "execution_count": 1008,
     "metadata": {},
     "output_type": "execute_result"
    }
   ],
   "source": [
    "tweet_length[1:10]"
   ]
  },
  {
   "cell_type": "code",
   "execution_count": 1009,
   "metadata": {
    "collapsed": true
   },
   "outputs": [],
   "source": [
    "data_sf['tweet_length'] = tweet_length"
   ]
  },
  {
   "cell_type": "code",
   "execution_count": 1106,
   "metadata": {
    "collapsed": false
   },
   "outputs": [
    {
     "data": {
      "text/html": [
       "<div style=\"max-height:1000px;max-width:1500px;overflow:auto;\"><table frame=\"box\" rules=\"cols\">\n",
       "    <tr>\n",
       "        <th style=\"padding-left: 1em; padding-right: 1em; text-align: center\">tweet_text</th>\n",
       "        <th style=\"padding-left: 1em; padding-right: 1em; text-align: center\">brand_product</th>\n",
       "        <th style=\"padding-left: 1em; padding-right: 1em; text-align: center\">sentiment</th>\n",
       "        <th style=\"padding-left: 1em; padding-right: 1em; text-align: center\">filtered_tweets</th>\n",
       "        <th style=\"padding-left: 1em; padding-right: 1em; text-align: center\">wc_filtered_tweets</th>\n",
       "    </tr>\n",
       "    <tr>\n",
       "        <td style=\"padding-left: 1em; padding-right: 1em; text-align: center; vertical-align: top\">@jessedee Know about<br>@fludapp ? Awesome ...</td>\n",
       "        <td style=\"padding-left: 1em; padding-right: 1em; text-align: center; vertical-align: top\">iPad or iPhone App</td>\n",
       "        <td style=\"padding-left: 1em; padding-right: 1em; text-align: center; vertical-align: top\">Positive</td>\n",
       "        <td style=\"padding-left: 1em; padding-right: 1em; text-align: center; vertical-align: top\">ipad they're giving<br>awesome appreciate li ...</td>\n",
       "        <td style=\"padding-left: 1em; padding-right: 1em; text-align: center; vertical-align: top\">{'ipad': 1, \"they're\": 1,<br>'giving': 1, 'app': 1, ...</td>\n",
       "    </tr>\n",
       "    <tr>\n",
       "        <td style=\"padding-left: 1em; padding-right: 1em; text-align: center; vertical-align: top\">@swonderlin Can not wait<br>for #iPad 2 also. They ...</td>\n",
       "        <td style=\"padding-left: 1em; padding-right: 1em; text-align: center; vertical-align: top\">iPad</td>\n",
       "        <td style=\"padding-left: 1em; padding-right: 1em; text-align: center; vertical-align: top\">Positive</td>\n",
       "        <td style=\"padding-left: 1em; padding-right: 1em; text-align: center; vertical-align: top\">also sale wait</td>\n",
       "        <td style=\"padding-left: 1em; padding-right: 1em; text-align: center; vertical-align: top\">{'also': 1, 'sale': 1,<br>'wait': 1} ...</td>\n",
       "    </tr>\n",
       "</table>\n",
       "<table frame=\"box\" rules=\"cols\">\n",
       "    <tr>\n",
       "        <th style=\"padding-left: 1em; padding-right: 1em; text-align: center\">tfidf</th>\n",
       "        <th style=\"padding-left: 1em; padding-right: 1em; text-align: center\">bigram_filtered_tweets</th>\n",
       "        <th style=\"padding-left: 1em; padding-right: 1em; text-align: center\">tweet_length</th>\n",
       "    </tr>\n",
       "    <tr>\n",
       "        <td style=\"padding-left: 1em; padding-right: 1em; text-align: center; vertical-align: top\">{'ipad':<br>1.1086902484494592, ...</td>\n",
       "        <td style=\"padding-left: 1em; padding-right: 1em; text-align: center; vertical-align: top\">{'ll design': 1, 'giving<br>awesome': 1, 'free al ...</td>\n",
       "        <td style=\"padding-left: 1em; padding-right: 1em; text-align: center; vertical-align: top\">13</td>\n",
       "    </tr>\n",
       "    <tr>\n",
       "        <td style=\"padding-left: 1em; padding-right: 1em; text-align: center; vertical-align: top\">{'also':<br>4.410067294829403, ...</td>\n",
       "        <td style=\"padding-left: 1em; padding-right: 1em; text-align: center; vertical-align: top\">{'also sale': 1, 'sale<br>wait': 1} ...</td>\n",
       "        <td style=\"padding-left: 1em; padding-right: 1em; text-align: center; vertical-align: top\">3</td>\n",
       "    </tr>\n",
       "</table>\n",
       "[2 rows x 8 columns]<br/>\n",
       "</div>"
      ],
      "text/plain": [
       "Columns:\n",
       "\ttweet_text\tstr\n",
       "\tbrand_product\tstr\n",
       "\tsentiment\tstr\n",
       "\tfiltered_tweets\tstr\n",
       "\twc_filtered_tweets\tdict\n",
       "\ttfidf\tdict\n",
       "\tbigram_filtered_tweets\tdict\n",
       "\ttweet_length\tint\n",
       "\n",
       "Rows: 2\n",
       "\n",
       "Data:\n",
       "+-------------------------------+--------------------+-----------+\n",
       "|           tweet_text          |   brand_product    | sentiment |\n",
       "+-------------------------------+--------------------+-----------+\n",
       "| @jessedee Know about @flud... | iPad or iPhone App |  Positive |\n",
       "| @swonderlin Can not wait f... |        iPad        |  Positive |\n",
       "+-------------------------------+--------------------+-----------+\n",
       "+-------------------------------+-------------------------------+\n",
       "|        filtered_tweets        |       wc_filtered_tweets      |\n",
       "+-------------------------------+-------------------------------+\n",
       "| ipad they're giving awesom... | {'ipad': 1, \"they're\": 1, ... |\n",
       "|         also sale wait        | {'also': 1, 'sale': 1, 'wa... |\n",
       "+-------------------------------+-------------------------------+\n",
       "+-------------------------------+-------------------------------+--------------+\n",
       "|             tfidf             |     bigram_filtered_tweets    | tweet_length |\n",
       "+-------------------------------+-------------------------------+--------------+\n",
       "| {'ipad': 1.108690248449459... | {'ll design': 1, 'giving a... |      13      |\n",
       "| {'also': 4.410067294829403... | {'also sale': 1, 'sale wai... |      3       |\n",
       "+-------------------------------+-------------------------------+--------------+\n",
       "[2 rows x 8 columns]"
      ]
     },
     "execution_count": 1106,
     "metadata": {},
     "output_type": "execute_result"
    }
   ],
   "source": [
    "data_sf[1:3]"
   ]
  },
  {
   "cell_type": "markdown",
   "metadata": {},
   "source": [
    "BM25 is a bag-of-words retrieval function that ranks a set of documents based on the query terms appearing in each document, regardless of the inter-relationship between the query terms within a document (e.g., their relative proximity)."
   ]
  },
  {
   "cell_type": "code",
   "execution_count": 1011,
   "metadata": {
    "collapsed": false
   },
   "outputs": [],
   "source": [
    "sample_words = ['iphone', 'google', 'android','store','market','ipad','apple']\n",
    "bm25_scores = gl.text_analytics.bm25(wc_filtered_tweets, sample_words)"
   ]
  },
  {
   "cell_type": "code",
   "execution_count": 1012,
   "metadata": {
    "collapsed": false
   },
   "outputs": [
    {
     "data": {
      "text/html": [
       "<div style=\"max-height:1000px;max-width:1500px;overflow:auto;\"><table frame=\"box\" rules=\"cols\">\n",
       "    <tr>\n",
       "        <th style=\"padding-left: 1em; padding-right: 1em; text-align: center\">doc_id</th>\n",
       "        <th style=\"padding-left: 1em; padding-right: 1em; text-align: center\">bm25</th>\n",
       "    </tr>\n",
       "    <tr>\n",
       "        <td style=\"padding-left: 1em; padding-right: 1em; text-align: center; vertical-align: top\">1</td>\n",
       "        <td style=\"padding-left: 1em; padding-right: 1em; text-align: center; vertical-align: top\">1.87535258791</td>\n",
       "    </tr>\n",
       "    <tr>\n",
       "        <td style=\"padding-left: 1em; padding-right: 1em; text-align: center; vertical-align: top\">3</td>\n",
       "        <td style=\"padding-left: 1em; padding-right: 1em; text-align: center; vertical-align: top\">1.7250242825</td>\n",
       "    </tr>\n",
       "    <tr>\n",
       "        <td style=\"padding-left: 1em; padding-right: 1em; text-align: center; vertical-align: top\">4</td>\n",
       "        <td style=\"padding-left: 1em; padding-right: 1em; text-align: center; vertical-align: top\">1.10040220789</td>\n",
       "    </tr>\n",
       "    <tr>\n",
       "        <td style=\"padding-left: 1em; padding-right: 1em; text-align: center; vertical-align: top\">6</td>\n",
       "        <td style=\"padding-left: 1em; padding-right: 1em; text-align: center; vertical-align: top\">0.781672331387</td>\n",
       "    </tr>\n",
       "    <tr>\n",
       "        <td style=\"padding-left: 1em; padding-right: 1em; text-align: center; vertical-align: top\">7</td>\n",
       "        <td style=\"padding-left: 1em; padding-right: 1em; text-align: center; vertical-align: top\">1.17732196647</td>\n",
       "    </tr>\n",
       "</table>\n",
       "[5 rows x 2 columns]<br/>\n",
       "</div>"
      ],
      "text/plain": [
       "Columns:\n",
       "\tdoc_id\tint\n",
       "\tbm25\tfloat\n",
       "\n",
       "Rows: 5\n",
       "\n",
       "Data:\n",
       "+--------+----------------+\n",
       "| doc_id |      bm25      |\n",
       "+--------+----------------+\n",
       "|   1    | 1.87535258791  |\n",
       "|   3    |  1.7250242825  |\n",
       "|   4    | 1.10040220789  |\n",
       "|   6    | 0.781672331387 |\n",
       "|   7    | 1.17732196647  |\n",
       "+--------+----------------+\n",
       "[5 rows x 2 columns]"
      ]
     },
     "execution_count": 1012,
     "metadata": {},
     "output_type": "execute_result"
    }
   ],
   "source": [
    "bm25_scores[1:6]"
   ]
  },
  {
   "cell_type": "code",
   "execution_count": 1013,
   "metadata": {
    "collapsed": false
   },
   "outputs": [
    {
     "name": "stdout",
     "output_type": "stream",
     "text": [
      "PROGRESS: Learning a topic model\n",
      "PROGRESS:        Number of documents      3291\n",
      "PROGRESS:            Vocabulary size      5023\n",
      "PROGRESS:    Running collapsed Gibbs sampling\n",
      "PROGRESS: +-----------+---------------+----------------+-----------------+\n",
      "PROGRESS: | Iteration | Elapsed Time  | Tokens/Second  | Est. Perplexity |\n",
      "PROGRESS: +-----------+---------------+----------------+-----------------+\n",
      "PROGRESS: | 10        | 143.857ms     | 3.11602e+06    | 0               |\n",
      "PROGRESS: +-----------+---------------+----------------+-----------------+\n"
     ]
    }
   ],
   "source": [
    "# Learn topic model\n",
    "topic_model = gl.topic_model.create(data_sf['wc_filtered_tweets'])"
   ]
  },
  {
   "cell_type": "code",
   "execution_count": 1014,
   "metadata": {
    "collapsed": false
   },
   "outputs": [
    {
     "name": "stdout",
     "output_type": "stream",
     "text": [
      "+-------+--------+-----------------+\n",
      "| topic |  word  |      score      |\n",
      "+-------+--------+-----------------+\n",
      "|   0   |  quot  |  0.033889966139 |\n",
      "|   0   |  app   | 0.0324429137846 |\n",
      "|   0   |  new   | 0.0309958614303 |\n",
      "|   0   |  day   | 0.0266547043672 |\n",
      "|   1   |  ipad  |  0.156265370483 |\n",
      "|   1   | launch | 0.0367734282325 |\n",
      "|   1   |  like  | 0.0356161212858 |\n",
      "|   1   |  need  | 0.0173885368747 |\n",
      "|   2   | iphone |  0.153589463426 |\n",
      "|   2   |  ipad  | 0.0460975105572 |\n",
      "+-------+--------+-----------------+\n",
      "[40 rows x 3 columns]\n",
      "Note: Only the head of the SFrame is printed.\n",
      "You can use print_rows(num_rows=m, num_columns=n) to print more rows and columns.\n"
     ]
    }
   ],
   "source": [
    "print topic_model.get_topics(num_words=4)"
   ]
  },
  {
   "cell_type": "code",
   "execution_count": 1015,
   "metadata": {
    "collapsed": false
   },
   "outputs": [
    {
     "name": "stdout",
     "output_type": "stream",
     "text": [
      "Topic 1: ['quot', 'app', 'new', 'day', 'free', 'check', 'google', 'amp', 'marissa', 'wins']\n",
      "Topic 2: ['ipad', 'launch', 'like', 'need', 'popup', 'want', 'temporary', 'austin', 'sxsw', 'circles']\n",
      "Topic 3: ['iphone', 'ipad', \"it's\", 'awesome', \"i'm\", 'users', 'big', 'downtown', 'phone', 'video']\n",
      "Topic 4: ['new', 'party', 'good', 'via', \"it's\", 'opening', 'austin', 'design', 'great', 'right']\n",
      "Topic 5: ['ipad', 'apple', 'app', 'amp', 'circles', 'store', 'begins', 'know', 'come', 'live']\n",
      "Topic 6: ['android', 'get', 'store', 'quot', 'people', 'temporary', 'game', 'coming', 'temp', 'excited']\n",
      "Topic 7: ['app', 'see', 'cool', 'sxsw', 'even', 'quot', 'still', 'great', 'comes', 'conferences']\n",
      "Topic 8: ['apple', 'store', 'austin', 'line', 'pop-up', 'love', 'pop', 'got', 'year', 'ipads']\n",
      "Topic 9: ['google', 'time', 'mobile', 'mayer', 'heard', 'great', 'technology', 'make', 'maps', 'first']\n",
      "Topic 10: ['social', 'one', 'thanks', 'network', 'called', 'would', 'yes', 'today', 'cool', 'much']\n"
     ]
    }
   ],
   "source": [
    "for topic_id in range(10):\n",
    "    print \"Topic \" + str(topic_id+1) + \": \" +str(topic_model.get_topics(num_words=10, output_type='topic_words')['words'][topic_id])"
   ]
  },
  {
   "cell_type": "markdown",
   "metadata": {},
   "source": [
    "## Logistic Regression for classification"
   ]
  },
  {
   "cell_type": "code",
   "execution_count": 1025,
   "metadata": {
    "collapsed": false
   },
   "outputs": [
    {
     "name": "stdout",
     "output_type": "stream",
     "text": [
      "PROGRESS: Creating a validation set from 5 percent of training data. This may take a while.\n",
      "          You can set ``validation_set=None`` to disable validation tracking.\n",
      "\n",
      "PROGRESS: Logistic regression:\n",
      "PROGRESS: --------------------------------------------------------\n",
      "PROGRESS: Number of examples          : 2361\n",
      "PROGRESS: Number of classes           : 3\n",
      "PROGRESS: Number of feature columns   : 1\n",
      "PROGRESS: Number of unpacked features : 4263\n",
      "PROGRESS: Number of coefficients    : 8528\n",
      "PROGRESS: Starting L-BFGS\n",
      "PROGRESS: --------------------------------------------------------\n",
      "PROGRESS: +-----------+----------+-----------+--------------+-------------------+---------------------+\n",
      "PROGRESS: | Iteration | Passes   | Step size | Elapsed Time | Training-accuracy | Validation-accuracy |\n",
      "PROGRESS: +-----------+----------+-----------+--------------+-------------------+---------------------+\n",
      "PROGRESS: | 1         | 3        | 0.000424  | 0.016824     | 0.823380          | 0.868217            |\n",
      "PROGRESS: | 2         | 5        | 1.000000  | 0.036611     | 0.913172          | 0.883721            |\n",
      "PROGRESS: | 3         | 6        | 1.000000  | 0.053692     | 0.977128          | 0.860465            |\n",
      "PROGRESS: | 4         | 7        | 1.000000  | 0.069683     | 0.981787          | 0.875969            |\n",
      "PROGRESS: | 5         | 8        | 1.000000  | 0.088435     | 0.986446          | 0.883721            |\n",
      "PROGRESS: | 6         | 9        | 1.000000  | 0.103006     | 0.989835          | 0.868217            |\n",
      "PROGRESS: +-----------+----------+-----------+--------------+-------------------+---------------------+\n",
      "PROGRESS: TERMINATED: Iteration limit reached.\n",
      "PROGRESS: This model may not be optimal. To improve it, consider increasing `max_iterations`.\n"
     ]
    }
   ],
   "source": [
    "# Splitting data to train and test\n",
    "train_data, test_data = data_sf.random_split(0.75)\n",
    "\n",
    "# Create a logistic regression classifer model.\n",
    "lr_model = gl.logistic_classifier.create(train_data, target='sentiment', features = ['wc_filtered_tweets'])\n",
    "\n",
    "# Get the predictions\n",
    "lr_model_predictions = lr_model.classify(test_data)\n",
    "\n",
    "# Evaluate the model and save the results into a dictionary\n",
    "lr_model_results = lr_model.evaluate(test_data)"
   ]
  },
  {
   "cell_type": "code",
   "execution_count": 1027,
   "metadata": {
    "collapsed": false
   },
   "outputs": [],
   "source": [
    "lr_model_predictions['sentiment'] = test_data['sentiment']"
   ]
  },
  {
   "cell_type": "code",
   "execution_count": 1030,
   "metadata": {
    "collapsed": false
   },
   "outputs": [
    {
     "data": {
      "text/html": [
       "<div style=\"max-height:1000px;max-width:1500px;overflow:auto;\"><table frame=\"box\" rules=\"cols\">\n",
       "    <tr>\n",
       "        <th style=\"padding-left: 1em; padding-right: 1em; text-align: center\">class</th>\n",
       "        <th style=\"padding-left: 1em; padding-right: 1em; text-align: center\">probability</th>\n",
       "        <th style=\"padding-left: 1em; padding-right: 1em; text-align: center\">sentiment</th>\n",
       "    </tr>\n",
       "    <tr>\n",
       "        <td style=\"padding-left: 1em; padding-right: 1em; text-align: center; vertical-align: top\">Positive</td>\n",
       "        <td style=\"padding-left: 1em; padding-right: 1em; text-align: center; vertical-align: top\">0.994030599211</td>\n",
       "        <td style=\"padding-left: 1em; padding-right: 1em; text-align: center; vertical-align: top\">Positive</td>\n",
       "    </tr>\n",
       "    <tr>\n",
       "        <td style=\"padding-left: 1em; padding-right: 1em; text-align: center; vertical-align: top\">Positive</td>\n",
       "        <td style=\"padding-left: 1em; padding-right: 1em; text-align: center; vertical-align: top\">0.99225622992</td>\n",
       "        <td style=\"padding-left: 1em; padding-right: 1em; text-align: center; vertical-align: top\">Positive</td>\n",
       "    </tr>\n",
       "    <tr>\n",
       "        <td style=\"padding-left: 1em; padding-right: 1em; text-align: center; vertical-align: top\">Positive</td>\n",
       "        <td style=\"padding-left: 1em; padding-right: 1em; text-align: center; vertical-align: top\">0.998550484439</td>\n",
       "        <td style=\"padding-left: 1em; padding-right: 1em; text-align: center; vertical-align: top\">Negative</td>\n",
       "    </tr>\n",
       "    <tr>\n",
       "        <td style=\"padding-left: 1em; padding-right: 1em; text-align: center; vertical-align: top\">Positive</td>\n",
       "        <td style=\"padding-left: 1em; padding-right: 1em; text-align: center; vertical-align: top\">0.971000678604</td>\n",
       "        <td style=\"padding-left: 1em; padding-right: 1em; text-align: center; vertical-align: top\">Negative</td>\n",
       "    </tr>\n",
       "    <tr>\n",
       "        <td style=\"padding-left: 1em; padding-right: 1em; text-align: center; vertical-align: top\">Positive</td>\n",
       "        <td style=\"padding-left: 1em; padding-right: 1em; text-align: center; vertical-align: top\">0.984048602866</td>\n",
       "        <td style=\"padding-left: 1em; padding-right: 1em; text-align: center; vertical-align: top\">Positive</td>\n",
       "    </tr>\n",
       "    <tr>\n",
       "        <td style=\"padding-left: 1em; padding-right: 1em; text-align: center; vertical-align: top\">Positive</td>\n",
       "        <td style=\"padding-left: 1em; padding-right: 1em; text-align: center; vertical-align: top\">0.958500179171</td>\n",
       "        <td style=\"padding-left: 1em; padding-right: 1em; text-align: center; vertical-align: top\">Positive</td>\n",
       "    </tr>\n",
       "    <tr>\n",
       "        <td style=\"padding-left: 1em; padding-right: 1em; text-align: center; vertical-align: top\">Positive</td>\n",
       "        <td style=\"padding-left: 1em; padding-right: 1em; text-align: center; vertical-align: top\">0.999989337443</td>\n",
       "        <td style=\"padding-left: 1em; padding-right: 1em; text-align: center; vertical-align: top\">Positive</td>\n",
       "    </tr>\n",
       "    <tr>\n",
       "        <td style=\"padding-left: 1em; padding-right: 1em; text-align: center; vertical-align: top\">Negative</td>\n",
       "        <td style=\"padding-left: 1em; padding-right: 1em; text-align: center; vertical-align: top\">0.671803293198</td>\n",
       "        <td style=\"padding-left: 1em; padding-right: 1em; text-align: center; vertical-align: top\">Negative</td>\n",
       "    </tr>\n",
       "    <tr>\n",
       "        <td style=\"padding-left: 1em; padding-right: 1em; text-align: center; vertical-align: top\">Positive</td>\n",
       "        <td style=\"padding-left: 1em; padding-right: 1em; text-align: center; vertical-align: top\">0.931467565682</td>\n",
       "        <td style=\"padding-left: 1em; padding-right: 1em; text-align: center; vertical-align: top\">Positive</td>\n",
       "    </tr>\n",
       "    <tr>\n",
       "        <td style=\"padding-left: 1em; padding-right: 1em; text-align: center; vertical-align: top\">Positive</td>\n",
       "        <td style=\"padding-left: 1em; padding-right: 1em; text-align: center; vertical-align: top\">0.999085373932</td>\n",
       "        <td style=\"padding-left: 1em; padding-right: 1em; text-align: center; vertical-align: top\">Positive</td>\n",
       "    </tr>\n",
       "</table>\n",
       "[20 rows x 3 columns]<br/>Note: Only the head of the SFrame is printed.<br/>You can use print_rows(num_rows=m, num_columns=n) to print more rows and columns.\n",
       "</div>"
      ],
      "text/plain": [
       "Columns:\n",
       "\tclass\tstr\n",
       "\tprobability\tfloat\n",
       "\tsentiment\tstr\n",
       "\n",
       "Rows: 20\n",
       "\n",
       "Data:\n",
       "+----------+----------------+-----------+\n",
       "|  class   |  probability   | sentiment |\n",
       "+----------+----------------+-----------+\n",
       "| Positive | 0.994030599211 |  Positive |\n",
       "| Positive | 0.99225622992  |  Positive |\n",
       "| Positive | 0.998550484439 |  Negative |\n",
       "| Positive | 0.971000678604 |  Negative |\n",
       "| Positive | 0.984048602866 |  Positive |\n",
       "| Positive | 0.958500179171 |  Positive |\n",
       "| Positive | 0.999989337443 |  Positive |\n",
       "| Negative | 0.671803293198 |  Negative |\n",
       "| Positive | 0.931467565682 |  Positive |\n",
       "| Positive | 0.999085373932 |  Positive |\n",
       "+----------+----------------+-----------+\n",
       "[20 rows x 3 columns]\n",
       "Note: Only the head of the SFrame is printed.\n",
       "You can use print_rows(num_rows=m, num_columns=n) to print more rows and columns."
      ]
     },
     "execution_count": 1030,
     "metadata": {},
     "output_type": "execute_result"
    }
   ],
   "source": [
    "lr_model_predictions[30:50]"
   ]
  },
  {
   "cell_type": "code",
   "execution_count": 1031,
   "metadata": {
    "collapsed": false
   },
   "outputs": [],
   "source": [
    "f1_lm_model_uni = gl.evaluation.f1_score(test_data['sentiment'], lr_model_predictions['class'],average='macro')\n",
    "lm_precision_uni   = gl.evaluation.precision(test_data['sentiment'], lr_model_predictions['class'], average='macro')\n",
    "lm_recall_uni  = gl.evaluation.recall(test_data['sentiment'], lr_model_predictions['class'], average='macro')"
   ]
  },
  {
   "cell_type": "code",
   "execution_count": 1032,
   "metadata": {
    "collapsed": false
   },
   "outputs": [
    {
     "data": {
      "text/plain": [
       "(0.46854005886806616, 0.4983150183150183, 0.4534313725490196)"
      ]
     },
     "execution_count": 1032,
     "metadata": {},
     "output_type": "execute_result"
    }
   ],
   "source": [
    "f1_lm_model_uni, lm_precision_uni, lm_recall_uni"
   ]
  },
  {
   "cell_type": "code",
   "execution_count": 1033,
   "metadata": {
    "collapsed": true
   },
   "outputs": [],
   "source": [
    "## Model with bigrams"
   ]
  },
  {
   "cell_type": "code",
   "execution_count": 1038,
   "metadata": {
    "collapsed": false
   },
   "outputs": [
    {
     "name": "stdout",
     "output_type": "stream",
     "text": [
      "PROGRESS: Creating a validation set from 5 percent of training data. This may take a while.\n",
      "          You can set ``validation_set=None`` to disable validation tracking.\n",
      "\n",
      "PROGRESS: Logistic regression:\n",
      "PROGRESS: --------------------------------------------------------\n",
      "PROGRESS: Number of examples          : 2358\n",
      "PROGRESS: Number of classes           : 3\n",
      "PROGRESS: Number of feature columns   : 1\n",
      "PROGRESS: Number of unpacked features : 13651\n",
      "PROGRESS: Number of coefficients    : 27304\n",
      "PROGRESS: Starting L-BFGS\n",
      "PROGRESS: --------------------------------------------------------\n",
      "PROGRESS: +-----------+----------+-----------+--------------+-------------------+---------------------+\n",
      "PROGRESS: | Iteration | Passes   | Step size | Elapsed Time | Training-accuracy | Validation-accuracy |\n",
      "PROGRESS: +-----------+----------+-----------+--------------+-------------------+---------------------+\n",
      "PROGRESS: | 1         | 3        | 0.000424  | 0.023259     | 0.977947          | 0.840909            |\n",
      "PROGRESS: | 2         | 5        | 1.000000  | 0.066285     | 0.992366          | 0.863636            |\n",
      "PROGRESS: | 3         | 6        | 1.000000  | 0.102411     | 0.994911          | 0.871212            |\n",
      "PROGRESS: | 4         | 7        | 1.000000  | 0.137927     | 0.994911          | 0.871212            |\n",
      "PROGRESS: | 5         | 8        | 1.000000  | 0.173046     | 0.994487          | 0.863636            |\n",
      "PROGRESS: | 6         | 9        | 1.000000  | 0.208752     | 0.994487          | 0.863636            |\n",
      "PROGRESS: +-----------+----------+-----------+--------------+-------------------+---------------------+\n",
      "PROGRESS: TERMINATED: Iteration limit reached.\n",
      "PROGRESS: This model may not be optimal. To improve it, consider increasing `max_iterations`.\n"
     ]
    }
   ],
   "source": [
    "# Create a logistic regression classifer model.\n",
    "lr_model2 = gl.logistic_classifier.create(train_data, target='sentiment', features = ['bigram_filtered_tweets'])\n",
    "\n",
    "# Get the predictions\n",
    "lr_model2_predictions= lr_model2.classify(test_data)\n",
    "\n",
    "# Evaluate the model and save the results into a dictionary\n",
    "lr_model2_results = lr_model2.evaluate(test_data)"
   ]
  },
  {
   "cell_type": "code",
   "execution_count": 1039,
   "metadata": {
    "collapsed": false
   },
   "outputs": [],
   "source": [
    "f1_lm_model_bigram = gl.evaluation.f1_score(test_data['sentiment'], lr_model2_predictions['class'],average='macro')\n",
    "lm_precision_bigram   = gl.evaluation.precision(test_data['sentiment'], lr_model2_predictions['class'], average='macro')\n",
    "lm_recall_bigram  = gl.evaluation.recall(test_data['sentiment'], lr_model2_predictions['class'], average='macro')"
   ]
  },
  {
   "cell_type": "code",
   "execution_count": 1040,
   "metadata": {
    "collapsed": false
   },
   "outputs": [
    {
     "data": {
      "text/plain": [
       "(0.4436634625561682, 0.5022956841138659, 0.42582559339525283)"
      ]
     },
     "execution_count": 1040,
     "metadata": {},
     "output_type": "execute_result"
    }
   ],
   "source": [
    "f1_lm_model_bigram, lm_precision_bigram, lm_recall_bigram"
   ]
  },
  {
   "cell_type": "code",
   "execution_count": null,
   "metadata": {
    "collapsed": true
   },
   "outputs": [],
   "source": []
  }
 ],
 "metadata": {
  "kernelspec": {
   "display_name": "Python 2",
   "language": "python",
   "name": "python2"
  },
  "language_info": {
   "codemirror_mode": {
    "name": "ipython",
    "version": 2
   },
   "file_extension": ".py",
   "mimetype": "text/x-python",
   "name": "python",
   "nbconvert_exporter": "python",
   "pygments_lexer": "ipython2",
   "version": "2.7.11"
  }
 },
 "nbformat": 4,
 "nbformat_minor": 0
}
