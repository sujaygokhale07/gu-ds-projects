{
 "cells": [
  {
   "cell_type": "markdown",
   "metadata": {},
   "source": [
    "**Methodology followed: **"
   ]
  },
  {
   "cell_type": "markdown",
   "metadata": {},
   "source": [
    "1. X - Vectorize the data using ngram_range: to combine unigrams, bigrams, trigrams\n",
    "2. y - The sentiment labels - Negative, Neutral and Positive\n",
    "3. Make a train test split based on the X and y defined above.\n",
    "    - Setting 25% as the Test data and 75% as training data\n",
    "    - Setting random state to prevent data from changing\n",
    "4. Initialize models (Most models were initialized on default parameters)\n",
    "5. Predict values based on these models\n",
    "6. Calculate Metrics:\n",
    "    - Accuracy\n",
    "    - F1-Score\n",
    "7. Compare models based on the metrics\n",
    "8. Apply grid search on the best model\n",
    "9. Implement cross_validation_score from sklearn for the best model using the parameters found by GridSearch.\n",
    "10. Build and visualize confusion matrix for the best model"
   ]
  },
  {
   "cell_type": "markdown",
   "metadata": {},
   "source": [
    "**Reason for using SVM:**"
   ]
  },
  {
   "cell_type": "markdown",
   "metadata": {},
   "source": [
    "- It can be used where the other models cannot perform as required: \n",
    "    - Because there was some degree of class imbalance in my dataset.\n",
    "- Other advantages i considered:\n",
    "    - It doesn't require a particular type of distribution.\n",
    "    - Ablity to make use of non-linear kernels.\n",
    "    - Doesn't suffer from multicollinearity."
   ]
  },
  {
   "cell_type": "markdown",
   "metadata": {},
   "source": [
    "**Reason for using Ensemble Classifiers:** : My goal was to improve accuracy."
   ]
  },
  {
   "cell_type": "markdown",
   "metadata": {},
   "source": [
    "Some other advantages:\n",
    "\n",
    "- Its extremely randomized version of DecisionTreeClassifier.\n",
    "- It helps to tackle the variance in the training data.\n",
    "- They more robust."
   ]
  },
  {
   "cell_type": "markdown",
   "metadata": {},
   "source": [
    "**Reason for using Cross Validation:**"
   ]
  },
  {
   "cell_type": "markdown",
   "metadata": {},
   "source": [
    "Needed to determine how well the model will perform for random test samples. i.e. it is used for model evaluation.\n",
    "\n",
    "- It removes some of the data before the training of the model begins. And uses the removed data to test the model.\n"
   ]
  },
  {
   "cell_type": "code",
   "execution_count": null,
   "metadata": {
    "collapsed": true
   },
   "outputs": [],
   "source": []
  }
 ],
 "metadata": {
  "kernelspec": {
   "display_name": "Python 2",
   "language": "python",
   "name": "python2"
  },
  "language_info": {
   "codemirror_mode": {
    "name": "ipython",
    "version": 2
   },
   "file_extension": ".py",
   "mimetype": "text/x-python",
   "name": "python",
   "nbconvert_exporter": "python",
   "pygments_lexer": "ipython2",
   "version": "2.7.11"
  }
 },
 "nbformat": 4,
 "nbformat_minor": 0
}
